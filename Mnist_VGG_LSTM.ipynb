{
  "nbformat": 4,
  "nbformat_minor": 0,
  "metadata": {
    "colab": {
      "name": "Mnist_VGG_LSTM.ipynb",
      "provenance": [],
      "authorship_tag": "ABX9TyNWCimgFN+I3vlek7DWe5b/",
      "include_colab_link": true
    },
    "kernelspec": {
      "name": "python3",
      "display_name": "Python 3"
    },
    "accelerator": "GPU"
  },
  "cells": [
    {
      "cell_type": "markdown",
      "metadata": {
        "id": "view-in-github",
        "colab_type": "text"
      },
      "source": [
        "<a href=\"https://colab.research.google.com/github/fangyiyu/Fangyi_Yu_Queens/blob/master/Mnist_VGG_LSTM.ipynb\" target=\"_parent\"><img src=\"https://colab.research.google.com/assets/colab-badge.svg\" alt=\"Open In Colab\"/></a>"
      ]
    },
    {
      "cell_type": "code",
      "metadata": {
        "id": "qShEhg4NcKY8"
      },
      "source": [
        "from keras.models import Sequential\n",
        "from keras.layers import Dense, Dropout, Conv2D, MaxPool2D, Flatten, LSTM\n",
        "from keras.utils import np_utils"
      ],
      "execution_count": null,
      "outputs": []
    },
    {
      "cell_type": "code",
      "metadata": {
        "id": "dcqHZ76-rS76",
        "outputId": "702ce4ab-36a8-4576-edbf-3c12ff68ce2c",
        "colab": {
          "base_uri": "https://localhost:8080/",
          "height": 377
        }
      },
      "source": [
        "!wget -O comp551w18-modified-mnist.zip https://www.dropbox.com/sh/dhu4cu8l8e32cvl/AACSbGE9X6P7an61STwwr8R0a?dl=0"
      ],
      "execution_count": 2,
      "outputs": [
        {
          "output_type": "stream",
          "text": [
            "--2020-09-28 12:56:27--  https://www.dropbox.com/sh/dhu4cu8l8e32cvl/AACSbGE9X6P7an61STwwr8R0a?dl=0\n",
            "Resolving www.dropbox.com (www.dropbox.com)... 162.125.67.1, 2620:100:6023:1::a27d:4301\n",
            "Connecting to www.dropbox.com (www.dropbox.com)|162.125.67.1|:443... connected.\n",
            "HTTP request sent, awaiting response... 301 Moved Permanently\n",
            "Location: /sh/raw/dhu4cu8l8e32cvl/AACSbGE9X6P7an61STwwr8R0a [following]\n",
            "--2020-09-28 12:56:27--  https://www.dropbox.com/sh/raw/dhu4cu8l8e32cvl/AACSbGE9X6P7an61STwwr8R0a\n",
            "Reusing existing connection to www.dropbox.com:443.\n",
            "HTTP request sent, awaiting response... 302 Found\n",
            "Location: https://uc4e3eec2e9e8bd4016dfe17116c.dl.dropboxusercontent.com/zip_download_get/AjpbxfQYUlprT9g_F6oPjnkkJtskD8BPBkxlvQyHdZibGXKwo_Ai070__OuXqMZ9F658Oa541wZsEiA8Aw0hhBTshqub8PBnkX9hN6dCBGT4Jg [following]\n",
            "--2020-09-28 12:56:28--  https://uc4e3eec2e9e8bd4016dfe17116c.dl.dropboxusercontent.com/zip_download_get/AjpbxfQYUlprT9g_F6oPjnkkJtskD8BPBkxlvQyHdZibGXKwo_Ai070__OuXqMZ9F658Oa541wZsEiA8Aw0hhBTshqub8PBnkX9hN6dCBGT4Jg\n",
            "Resolving uc4e3eec2e9e8bd4016dfe17116c.dl.dropboxusercontent.com (uc4e3eec2e9e8bd4016dfe17116c.dl.dropboxusercontent.com)... 162.125.67.15, 2620:100:6023:15::a27d:430f\n",
            "Connecting to uc4e3eec2e9e8bd4016dfe17116c.dl.dropboxusercontent.com (uc4e3eec2e9e8bd4016dfe17116c.dl.dropboxusercontent.com)|162.125.67.15|:443... connected.\n",
            "HTTP request sent, awaiting response... 200 OK\n",
            "Length: 307773123 (294M) [application/zip]\n",
            "Saving to: ‘comp551w18-modified-mnist.zip’\n",
            "\n",
            "comp551w18-modified 100%[===================>] 293.51M  24.6MB/s    in 12s     \n",
            "\n",
            "2020-09-28 12:56:41 (24.6 MB/s) - ‘comp551w18-modified-mnist.zip’ saved [307773123/307773123]\n",
            "\n"
          ],
          "name": "stdout"
        }
      ]
    },
    {
      "cell_type": "code",
      "metadata": {
        "id": "mRQ9xytGrT6Y",
        "outputId": "ceafdf1d-9ddf-4075-8cbd-9583540a5107",
        "colab": {
          "base_uri": "https://localhost:8080/",
          "height": 85
        }
      },
      "source": [
        "!unzip comp551w18-modified-mnist.zip"
      ],
      "execution_count": 4,
      "outputs": [
        {
          "output_type": "stream",
          "text": [
            "Archive:  comp551w18-modified-mnist.zip\n",
            "  inflating: test_x.csv              \n",
            "  inflating: train_y.csv             \n",
            "  inflating: train_x.csv             \n"
          ],
          "name": "stdout"
        }
      ]
    },
    {
      "cell_type": "code",
      "metadata": {
        "id": "CMifnnT6rkR2",
        "outputId": "a18b17c3-53a5-4c57-8aeb-7fbc7cf28556",
        "colab": {
          "base_uri": "https://localhost:8080/",
          "height": 51
        }
      },
      "source": [
        "!ls"
      ],
      "execution_count": 1,
      "outputs": [
        {
          "output_type": "stream",
          "text": [
            "comp551w18-modified-mnist.zip  sample_data  train_x.csv\n",
            "instruction.txt\t\t       test_x.csv   train_y.csv\n"
          ],
          "name": "stdout"
        }
      ]
    },
    {
      "cell_type": "markdown",
      "metadata": {
        "id": "kw9yDl9sLErO"
      },
      "source": [
        "# 1. Data preprocessing"
      ]
    },
    {
      "cell_type": "code",
      "metadata": {
        "id": "NYcwLawlrr_b"
      },
      "source": [
        "# Load data\n",
        "import numpy as np\n",
        "x_train = np.loadtxt(\"train_x.csv\", delimiter=\",\")# load from text\n",
        "y_train = np.loadtxt(\"train_y.csv\", delimiter=\",\")\n",
        "x_test = np.loadtxt(\"test_x.csv\", delimiter=\",\")"
      ],
      "execution_count": 2,
      "outputs": []
    },
    {
      "cell_type": "code",
      "metadata": {
        "id": "sfPDmVmSy_zF"
      },
      "source": [
        "x_train=x_train.reshape(x_train.shape[0],64,64,1)\n",
        "x_test=x_test.reshape(x_test.shape[0],64,64,1)"
      ],
      "execution_count": 3,
      "outputs": []
    },
    {
      "cell_type": "code",
      "metadata": {
        "id": "sxRxv8J6vpgh",
        "outputId": "390f0a5b-b6c9-427b-8c23-245cf11c6cc0",
        "colab": {
          "base_uri": "https://localhost:8080/",
          "height": 68
        }
      },
      "source": [
        "# Scale x\n",
        "x_train = x_train.astype('float32')\n",
        "x_test = x_test.astype('float32')\n",
        "x_train /= 255\n",
        "x_test /= 255\n",
        "print('x_train shape:', x_train.shape)\n",
        "print(x_train.shape[0], 'train samples')\n",
        "print(x_test.shape[0], 'test samples')"
      ],
      "execution_count": 4,
      "outputs": [
        {
          "output_type": "stream",
          "text": [
            "x_train shape: (50000, 64, 64, 1)\n",
            "50000 train samples\n",
            "10000 test samples\n"
          ],
          "name": "stdout"
        }
      ]
    },
    {
      "cell_type": "code",
      "metadata": {
        "id": "3yFUrSFN-I3q"
      },
      "source": [
        "# Transform y\n",
        "n_classes = 10\n",
        "y_train_d = np_utils.to_categorical(y_train_c, n_classes)\n",
        "y_test_d = np_utils.to_categorical(y_test_c, n_classes)\n",
        "print(\"Shape after one-hot encoding: \", y_train_d.shape)"
      ],
      "execution_count": null,
      "outputs": []
    },
    {
      "cell_type": "code",
      "metadata": {
        "id": "pvVZkAGpwe6W"
      },
      "source": [
        "# Split dataset into train and test\n",
        "from sklearn.model_selection import train_test_split\n",
        "x_train_c, x_test_c, y_train_c, y_test_c = train_test_split(x_train, y_train, test_size=0.2, random_state=7)"
      ],
      "execution_count": 5,
      "outputs": []
    },
    {
      "cell_type": "code",
      "metadata": {
        "id": "36QKFI8T78dM",
        "outputId": "9dc2da24-d36c-4e05-f831-18ccdf3f1b63",
        "colab": {
          "base_uri": "https://localhost:8080/",
          "height": 34
        }
      },
      "source": [
        "(x_train_c.shape, x_test_c.shape,y_train_d.shape,y_test_d.shape)"
      ],
      "execution_count": 13,
      "outputs": [
        {
          "output_type": "execute_result",
          "data": {
            "text/plain": [
              "((40000, 64, 64, 1), (10000, 64, 64, 1), (40000, 10), (10000, 10))"
            ]
          },
          "metadata": {
            "tags": []
          },
          "execution_count": 13
        }
      ]
    },
    {
      "cell_type": "code",
      "metadata": {
        "id": "BQHua-9uAhaE"
      },
      "source": [
        "# Data augmentation\n",
        "datagen = ImageDataGenerator(\n",
        "    rotation_range=20, \n",
        "    width_shift_range=0.1,\n",
        "    shear_range=0.2,\n",
        "    height_shift_range=0.1,\n",
        "    zoom_range=0.2\n",
        "    )\n",
        "\n",
        "datagen.fit(x_train_c)"
      ],
      "execution_count": 16,
      "outputs": []
    },
    {
      "cell_type": "code",
      "metadata": {
        "id": "URXXnelWA6WD"
      },
      "source": [
        "input_shape = (64,64,1)"
      ],
      "execution_count": null,
      "outputs": []
    },
    {
      "cell_type": "markdown",
      "metadata": {
        "id": "wA-oEKGSK3NG"
      },
      "source": [
        "## 2. CNN_VGG"
      ]
    },
    {
      "cell_type": "code",
      "metadata": {
        "id": "aqILq7ZtA3Nf"
      },
      "source": [
        "# Build model\n",
        "def VGG_modified(input_shape, opt = optimizers.Adam(amsgrad=True)):\n",
        "    model = Sequential()\n",
        "    \n",
        "    model.add(Conv2D(32, kernel_size=(3, 3), padding=\"same\", activation='relu', input_shape=input_shape,\n",
        "                            data_format=\"channels_last\"))\n",
        "    model.add(Conv2D(32, kernel_size=(3, 3), padding=\"same\", activation='relu'))\n",
        "    model.add(Conv2D(32, kernel_size=(3, 3), padding=\"same\", activation='relu'))\n",
        "    model.add(BatchNormalization())\n",
        "    model.add(MaxPool2D(pool_size=(2, 2)))\n",
        "    model.add(Dropout(0.2))\n",
        "\n",
        "    model.add(Conv2D(64, kernel_size=(3, 3), padding=\"same\", activation='relu'))\n",
        "    model.add(Conv2D(64, kernel_size=(3, 3), padding=\"same\", activation='relu'))\n",
        "    model.add(Conv2D(64, kernel_size=(3, 3), padding=\"same\", activation='relu'))\n",
        "    model.add(BatchNormalization())\n",
        "    model.add(MaxPool2D(pool_size=(2, 2)))\n",
        "    model.add(Dropout(0.2))\n",
        "\n",
        "    model.add(Conv2D(128, kernel_size=(3, 3), padding=\"same\", activation='relu'))\n",
        "    model.add(Conv2D(128, kernel_size=(3, 3), padding=\"same\", activation='relu'))\n",
        "    model.add(Conv2D(128, kernel_size=(3, 3), padding=\"same\", activation='relu'))\n",
        "    model.add(BatchNormalization())\n",
        "    model.add(MaxPool2D(pool_size=(2, 2)))\n",
        "    model.add(Dropout(0.2))\n",
        "\n",
        "    model.add(Conv2D(256, kernel_size=(3, 3), padding=\"same\", activation='relu'))\n",
        "    model.add(Conv2D(256, kernel_size=(3, 3), padding=\"same\", activation='relu'))\n",
        "    model.add(Conv2D(256, kernel_size=(3, 3), padding=\"same\", activation='relu'))\n",
        "    model.add(BatchNormalization())\n",
        "    model.add(MaxPool2D(pool_size=(2, 2)))\n",
        "    model.add(Dropout(0.2))\n",
        "\n",
        "    model.add(Flatten())\n",
        "    model.add(Dense(512, activation='relu'))\n",
        "    model.add(Dense(512, activation='relu'))\n",
        "    model.add(Dropout(0.5))\n",
        "    model.add(Dense(10, activation='softmax'))\n",
        "    \n",
        "    #sgd=SGD(lr=0.01, decay=1e-6, momentum=0.9, nesterov=True)\n",
        "    model.compile(loss='categorical_crossentropy', optimizer=opt, metrics=['accuracy'])\n",
        "    return model"
      ],
      "execution_count": 17,
      "outputs": []
    },
    {
      "cell_type": "code",
      "metadata": {
        "id": "GUHGif-tBA_V",
        "outputId": "f768448c-6519-4819-f499-5fbb9b3689a9",
        "colab": {
          "base_uri": "https://localhost:8080/",
          "height": 357
        }
      },
      "source": [
        "model = VGG_modified((64,64,1))\n",
        "history = model.fit_generator(datagen.flow(x_train_c, y_train_d, batch_size=64),\n",
        "                              validation_data=(x_test_c, y_test_d),\n",
        "                              epochs = 10)"
      ],
      "execution_count": 21,
      "outputs": [
        {
          "output_type": "stream",
          "text": [
            "Epoch 1/10\n",
            "625/625 [==============================] - 59s 94ms/step - loss: 2.3174 - accuracy: 0.1516 - val_loss: 2.2898 - val_accuracy: 0.1410\n",
            "Epoch 2/10\n",
            "625/625 [==============================] - 59s 94ms/step - loss: 2.1987 - accuracy: 0.1781 - val_loss: 2.1878 - val_accuracy: 0.1821\n",
            "Epoch 3/10\n",
            "625/625 [==============================] - 58s 93ms/step - loss: 2.1531 - accuracy: 0.1954 - val_loss: 2.1082 - val_accuracy: 0.2039\n",
            "Epoch 4/10\n",
            "625/625 [==============================] - 58s 93ms/step - loss: 2.0911 - accuracy: 0.2197 - val_loss: 2.2870 - val_accuracy: 0.1558\n",
            "Epoch 5/10\n",
            "625/625 [==============================] - 58s 93ms/step - loss: 1.9500 - accuracy: 0.2776 - val_loss: 2.0007 - val_accuracy: 0.2690\n",
            "Epoch 6/10\n",
            "625/625 [==============================] - 58s 93ms/step - loss: 1.7536 - accuracy: 0.3377 - val_loss: 3.4980 - val_accuracy: 0.1172\n",
            "Epoch 7/10\n",
            "625/625 [==============================] - 58s 93ms/step - loss: 1.5459 - accuracy: 0.4137 - val_loss: 2.3700 - val_accuracy: 0.2698\n",
            "Epoch 8/10\n",
            "625/625 [==============================] - 58s 93ms/step - loss: 1.3235 - accuracy: 0.4988 - val_loss: 2.3313 - val_accuracy: 0.1907\n",
            "Epoch 9/10\n",
            "625/625 [==============================] - 58s 93ms/step - loss: 1.0246 - accuracy: 0.6448 - val_loss: 1.6347 - val_accuracy: 0.4912\n",
            "Epoch 10/10\n",
            "625/625 [==============================] - 58s 93ms/step - loss: 0.7189 - accuracy: 0.7959 - val_loss: 0.3750 - val_accuracy: 0.8948\n"
          ],
          "name": "stdout"
        }
      ]
    },
    {
      "cell_type": "markdown",
      "metadata": {
        "id": "JwrC79F9KwY8"
      },
      "source": [
        "# 3. RNN_LSTM"
      ]
    },
    {
      "cell_type": "code",
      "metadata": {
        "id": "0KHBN9kO0nhr",
        "outputId": "1a90e996-2d7f-4e98-9f9d-afd05b7b299e",
        "colab": {
          "base_uri": "https://localhost:8080/",
          "height": 221
        }
      },
      "source": [
        "# Hyper parameters\n",
        "batch_size = 64\n",
        "nb_epoch = 10\n",
        "# Parameters for MNIST dataset\n",
        "img_rows, img_cols = 64, 64\n",
        "nb_classes = 10\n",
        "# Parameters for LSTM network\n",
        "nb_lstm_outputs = 30\n",
        "nb_time_steps = img_rows\n",
        "dim_input_vector = img_cols\n",
        "input_shape = (64, 64)\n",
        "\n",
        "x_train_r=x_train_c.reshape(x_train_c.shape[0],64,64)\n",
        "x_test_r=x_test_c.reshape(x_test_c.shape[0],64,64)\n",
        "\n",
        "model_LSTM = Sequential()\n",
        "model_LSTM.add(LSTM(nb_lstm_outputs, input_shape=input_shape))\n",
        "model_LSTM.add(Dense(10, activation='softmax'))\n",
        "model_LSTM.compile(optimizer='rmsprop', loss='categorical_crossentropy', metrics=['accuracy'])\n",
        "model_LSTM.summary()"
      ],
      "execution_count": 23,
      "outputs": [
        {
          "output_type": "stream",
          "text": [
            "Model: \"sequential_10\"\n",
            "_________________________________________________________________\n",
            "Layer (type)                 Output Shape              Param #   \n",
            "=================================================================\n",
            "lstm (LSTM)                  (None, 30)                11400     \n",
            "_________________________________________________________________\n",
            "dense_23 (Dense)             (None, 10)                310       \n",
            "=================================================================\n",
            "Total params: 11,710\n",
            "Trainable params: 11,710\n",
            "Non-trainable params: 0\n",
            "_________________________________________________________________\n"
          ],
          "name": "stdout"
        }
      ]
    },
    {
      "cell_type": "code",
      "metadata": {
        "id": "1BcF3kS6E9hW",
        "outputId": "4cec8106-e0ec-4c21-cdba-aafd0ce6d780",
        "colab": {
          "base_uri": "https://localhost:8080/",
          "height": 357
        }
      },
      "source": [
        "# Train the model\n",
        "history = model_LSTM.fit(x_train_r, \n",
        "                    y_train_d, \n",
        "                    epochs=nb_epoch, \n",
        "                    batch_size=batch_size, \n",
        "                    shuffle=True,\n",
        "                    validation_data=(x_test_r, y_test_d),\n",
        "                    verbose=1)"
      ],
      "execution_count": 26,
      "outputs": [
        {
          "output_type": "stream",
          "text": [
            "Epoch 1/10\n",
            "625/625 [==============================] - 11s 18ms/step - loss: 2.3056 - accuracy: 0.1042 - val_loss: 2.3031 - val_accuracy: 0.1127\n",
            "Epoch 2/10\n",
            "625/625 [==============================] - 10s 17ms/step - loss: 2.2989 - accuracy: 0.1189 - val_loss: 2.2930 - val_accuracy: 0.1293\n",
            "Epoch 3/10\n",
            "625/625 [==============================] - 11s 17ms/step - loss: 2.2692 - accuracy: 0.1483 - val_loss: 2.2646 - val_accuracy: 0.1477\n",
            "Epoch 4/10\n",
            "625/625 [==============================] - 10s 17ms/step - loss: 2.2397 - accuracy: 0.1660 - val_loss: 2.2402 - val_accuracy: 0.1632\n",
            "Epoch 5/10\n",
            "625/625 [==============================] - 10s 17ms/step - loss: 2.2188 - accuracy: 0.1752 - val_loss: 2.2299 - val_accuracy: 0.1661\n",
            "Epoch 6/10\n",
            "625/625 [==============================] - 10s 17ms/step - loss: 2.2058 - accuracy: 0.1831 - val_loss: 2.2325 - val_accuracy: 0.1641\n",
            "Epoch 7/10\n",
            "625/625 [==============================] - 10s 17ms/step - loss: 2.1931 - accuracy: 0.1864 - val_loss: 2.2075 - val_accuracy: 0.1771\n",
            "Epoch 8/10\n",
            "625/625 [==============================] - 10s 17ms/step - loss: 2.1839 - accuracy: 0.1912 - val_loss: 2.2054 - val_accuracy: 0.1789\n",
            "Epoch 9/10\n",
            "625/625 [==============================] - 10s 17ms/step - loss: 2.1717 - accuracy: 0.1952 - val_loss: 2.2064 - val_accuracy: 0.1817\n",
            "Epoch 10/10\n",
            "625/625 [==============================] - 11s 17ms/step - loss: 2.1624 - accuracy: 0.2000 - val_loss: 2.1689 - val_accuracy: 0.1962\n"
          ],
          "name": "stdout"
        }
      ]
    },
    {
      "cell_type": "code",
      "metadata": {
        "id": "vmh4GDhbkUTh"
      },
      "source": [
        ""
      ],
      "execution_count": null,
      "outputs": []
    }
  ]
}