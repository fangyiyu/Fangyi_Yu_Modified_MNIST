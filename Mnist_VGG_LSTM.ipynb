{
  "nbformat": 4,
  "nbformat_minor": 0,
  "metadata": {
    "colab": {
      "name": "Mnist_VGG_LSTM.ipynb",
      "provenance": [],
      "include_colab_link": true
    },
    "kernelspec": {
      "name": "python3",
      "display_name": "Python 3"
    },
    "accelerator": "GPU"
  },
  "cells": [
    {
      "cell_type": "markdown",
      "metadata": {
        "id": "view-in-github",
        "colab_type": "text"
      },
      "source": [
        "<a href=\"https://colab.research.google.com/github/fangyiyu/Fangyi_Yu_Queens/blob/master/Mnist_VGG_LSTM.ipynb\" target=\"_parent\"><img src=\"https://colab.research.google.com/assets/colab-badge.svg\" alt=\"Open In Colab\"/></a>"
      ]
    },
    {
      "cell_type": "code",
      "metadata": {
        "id": "qShEhg4NcKY8"
      },
      "source": [
        "from keras.models import Sequential\n",
        "from keras.layers import Dense, Dropout, Conv2D, MaxPool2D, Flatten, LSTM, BatchNormalization\n",
        "from keras.utils import np_utils\n",
        "import tensorflow as tf\n",
        "import numpy as np\n",
        "from sklearn.model_selection import train_test_split\n",
        "from keras.preprocessing.image import ImageDataGenerator"
      ],
      "execution_count": 20,
      "outputs": []
    },
    {
      "cell_type": "code",
      "metadata": {
        "id": "dcqHZ76-rS76",
        "outputId": "98d1a8c2-7cf9-4494-eb1c-55f1e54644cf",
        "colab": {
          "base_uri": "https://localhost:8080/",
          "height": 377
        }
      },
      "source": [
        "!wget -O comp551w18-modified-mnist.zip https://www.dropbox.com/sh/dhu4cu8l8e32cvl/AACSbGE9X6P7an61STwwr8R0a?dl=0"
      ],
      "execution_count": 2,
      "outputs": [
        {
          "output_type": "stream",
          "text": [
            "--2020-09-28 20:48:24--  https://www.dropbox.com/sh/dhu4cu8l8e32cvl/AACSbGE9X6P7an61STwwr8R0a?dl=0\n",
            "Resolving www.dropbox.com (www.dropbox.com)... 162.125.1.1, 2620:100:6016:1::a27d:101\n",
            "Connecting to www.dropbox.com (www.dropbox.com)|162.125.1.1|:443... connected.\n",
            "HTTP request sent, awaiting response... 301 Moved Permanently\n",
            "Location: /sh/raw/dhu4cu8l8e32cvl/AACSbGE9X6P7an61STwwr8R0a [following]\n",
            "--2020-09-28 20:48:24--  https://www.dropbox.com/sh/raw/dhu4cu8l8e32cvl/AACSbGE9X6P7an61STwwr8R0a\n",
            "Reusing existing connection to www.dropbox.com:443.\n",
            "HTTP request sent, awaiting response... 302 Found\n",
            "Location: https://uce696705c370b8590c93d26b863.dl.dropboxusercontent.com/zip_download_get/Ajqw1oDuFSbPcFs__axFZ72OK4kbKUqvJnaICMhKPu9QLFCfnFeCBb7yXNHvv-d0jGJcRqZfiVFp3KlrkWvup9Ol0WejaFBmkIZ96s5khCNgHg [following]\n",
            "--2020-09-28 20:48:24--  https://uce696705c370b8590c93d26b863.dl.dropboxusercontent.com/zip_download_get/Ajqw1oDuFSbPcFs__axFZ72OK4kbKUqvJnaICMhKPu9QLFCfnFeCBb7yXNHvv-d0jGJcRqZfiVFp3KlrkWvup9Ol0WejaFBmkIZ96s5khCNgHg\n",
            "Resolving uce696705c370b8590c93d26b863.dl.dropboxusercontent.com (uce696705c370b8590c93d26b863.dl.dropboxusercontent.com)... 162.125.1.15, 2620:100:6016:15::a27d:10f\n",
            "Connecting to uce696705c370b8590c93d26b863.dl.dropboxusercontent.com (uce696705c370b8590c93d26b863.dl.dropboxusercontent.com)|162.125.1.15|:443... connected.\n",
            "HTTP request sent, awaiting response... 200 OK\n",
            "Length: 307773123 (294M) [application/zip]\n",
            "Saving to: ‘comp551w18-modified-mnist.zip’\n",
            "\n",
            "comp551w18-modified 100%[===================>] 293.51M  50.5MB/s    in 5.9s    \n",
            "\n",
            "2020-09-28 20:48:31 (49.8 MB/s) - ‘comp551w18-modified-mnist.zip’ saved [307773123/307773123]\n",
            "\n"
          ],
          "name": "stdout"
        }
      ]
    },
    {
      "cell_type": "code",
      "metadata": {
        "id": "mRQ9xytGrT6Y",
        "outputId": "f690d05a-bf70-43d5-b628-691de7598f80",
        "colab": {
          "base_uri": "https://localhost:8080/",
          "height": 102
        }
      },
      "source": [
        "!unzip comp551w18-modified-mnist.zip"
      ],
      "execution_count": 4,
      "outputs": [
        {
          "output_type": "stream",
          "text": [
            "y\n",
            "Archive:  comp551w18-modified-mnist.zip\n",
            "  inflating: test_x.csv              \n",
            "  inflating: train_y.csv             \n",
            "  inflating: train_x.csv             \n"
          ],
          "name": "stdout"
        }
      ]
    },
    {
      "cell_type": "code",
      "metadata": {
        "id": "CMifnnT6rkR2",
        "outputId": "3528a280-3df3-42fa-dff6-705dc05332c2",
        "colab": {
          "base_uri": "https://localhost:8080/",
          "height": 51
        }
      },
      "source": [
        "!ls"
      ],
      "execution_count": 5,
      "outputs": [
        {
          "output_type": "stream",
          "text": [
            "comp551w18-modified-mnist.zip  sample_data  train_x.csv\n",
            "instruction.txt\t\t       test_x.csv   train_y.csv\n"
          ],
          "name": "stdout"
        }
      ]
    },
    {
      "cell_type": "markdown",
      "metadata": {
        "id": "kw9yDl9sLErO"
      },
      "source": [
        "# 1. Data preprocessing"
      ]
    },
    {
      "cell_type": "code",
      "metadata": {
        "id": "NYcwLawlrr_b"
      },
      "source": [
        "# Load data\n",
        "x_train = np.loadtxt(\"train_x.csv\", delimiter=\",\")# load from text\n",
        "y_train = np.loadtxt(\"train_y.csv\", delimiter=\",\")\n",
        "x_test = np.loadtxt(\"test_x.csv\", delimiter=\",\")"
      ],
      "execution_count": 6,
      "outputs": []
    },
    {
      "cell_type": "code",
      "metadata": {
        "id": "sfPDmVmSy_zF"
      },
      "source": [
        "x_train=x_train.reshape(x_train.shape[0],64,64,1)\n",
        "x_test=x_test.reshape(x_test.shape[0],64,64,1)"
      ],
      "execution_count": 7,
      "outputs": []
    },
    {
      "cell_type": "code",
      "metadata": {
        "id": "sxRxv8J6vpgh",
        "outputId": "c1d0094c-10d5-4be4-b042-07f21cb3f7fa",
        "colab": {
          "base_uri": "https://localhost:8080/",
          "height": 68
        }
      },
      "source": [
        "# Scale x\n",
        "x_train = x_train.astype('float32')\n",
        "x_test = x_test.astype('float32')\n",
        "x_train /= 255\n",
        "x_test /= 255\n",
        "print('x_train shape:', x_train.shape)\n",
        "print(x_train.shape[0], 'train samples')\n",
        "print(x_test.shape[0], 'test samples')"
      ],
      "execution_count": 8,
      "outputs": [
        {
          "output_type": "stream",
          "text": [
            "x_train shape: (50000, 64, 64, 1)\n",
            "50000 train samples\n",
            "10000 test samples\n"
          ],
          "name": "stdout"
        }
      ]
    },
    {
      "cell_type": "code",
      "metadata": {
        "id": "ewfGorHlfM3G"
      },
      "source": [
        "# Split dataset into train and test\n",
        "x_train_c, x_test_c, y_train_c, y_test_c = train_test_split(x_train, y_train, test_size=0.2, random_state=7)"
      ],
      "execution_count": 10,
      "outputs": []
    },
    {
      "cell_type": "code",
      "metadata": {
        "id": "3yFUrSFN-I3q",
        "outputId": "a84e834a-e77f-4d1c-ed3e-4ed54b54a97f",
        "colab": {
          "base_uri": "https://localhost:8080/",
          "height": 34
        }
      },
      "source": [
        "# Transform y\n",
        "n_classes = 10\n",
        "y_train_d = np_utils.to_categorical(y_train_c, n_classes)\n",
        "y_test_d = np_utils.to_categorical(y_test_c, n_classes)\n",
        "print(\"Shape after one-hot encoding: \", y_train_d.shape)"
      ],
      "execution_count": 11,
      "outputs": [
        {
          "output_type": "stream",
          "text": [
            "Shape after one-hot encoding:  (40000, 10)\n"
          ],
          "name": "stdout"
        }
      ]
    },
    {
      "cell_type": "code",
      "metadata": {
        "id": "36QKFI8T78dM",
        "outputId": "c301d6e4-3123-459a-a1fe-926bf2d2dfb2",
        "colab": {
          "base_uri": "https://localhost:8080/",
          "height": 34
        }
      },
      "source": [
        "(x_train_c.shape, x_test_c.shape,y_train_d.shape,y_test_d.shape)"
      ],
      "execution_count": 12,
      "outputs": [
        {
          "output_type": "execute_result",
          "data": {
            "text/plain": [
              "((40000, 64, 64, 1), (10000, 64, 64, 1), (40000, 10), (10000, 10))"
            ]
          },
          "metadata": {
            "tags": []
          },
          "execution_count": 12
        }
      ]
    },
    {
      "cell_type": "code",
      "metadata": {
        "id": "BQHua-9uAhaE"
      },
      "source": [
        "# Data augmentation\n",
        "datagen = ImageDataGenerator(\n",
        "    rotation_range=20, \n",
        "    width_shift_range=0.1,\n",
        "    shear_range=0.2,\n",
        "    height_shift_range=0.1,\n",
        "    zoom_range=0.2\n",
        "    )\n",
        "\n",
        "datagen.fit(x_train_c)"
      ],
      "execution_count": 14,
      "outputs": []
    },
    {
      "cell_type": "code",
      "metadata": {
        "id": "URXXnelWA6WD"
      },
      "source": [
        "input_shape = (64,64,1)"
      ],
      "execution_count": 15,
      "outputs": []
    },
    {
      "cell_type": "markdown",
      "metadata": {
        "id": "wA-oEKGSK3NG"
      },
      "source": [
        "## 2. CNN_VGG"
      ]
    },
    {
      "cell_type": "code",
      "metadata": {
        "id": "aqILq7ZtA3Nf"
      },
      "source": [
        "# Build model\n",
        "def VGG_modified(input_shape, opt = tf.keras.optimizers.Adam(amsgrad=True)):\n",
        "    model = Sequential()\n",
        "    \n",
        "    model.add(Conv2D(32, kernel_size=(3, 3), padding=\"same\", activation='relu', input_shape=input_shape,\n",
        "                            data_format=\"channels_last\"))\n",
        "    model.add(Conv2D(32, kernel_size=(3, 3), padding=\"same\", activation='relu'))\n",
        "    model.add(Conv2D(32, kernel_size=(3, 3), padding=\"same\", activation='relu'))\n",
        "    model.add(BatchNormalization())\n",
        "    model.add(MaxPool2D(pool_size=(2, 2)))\n",
        "    model.add(Dropout(0.2))\n",
        "\n",
        "    model.add(Conv2D(64, kernel_size=(3, 3), padding=\"same\", activation='relu'))\n",
        "    model.add(Conv2D(64, kernel_size=(3, 3), padding=\"same\", activation='relu'))\n",
        "    model.add(Conv2D(64, kernel_size=(3, 3), padding=\"same\", activation='relu'))\n",
        "    model.add(BatchNormalization())\n",
        "    model.add(MaxPool2D(pool_size=(2, 2)))\n",
        "    model.add(Dropout(0.2))\n",
        "\n",
        "    model.add(Conv2D(128, kernel_size=(3, 3), padding=\"same\", activation='relu'))\n",
        "    model.add(Conv2D(128, kernel_size=(3, 3), padding=\"same\", activation='relu'))\n",
        "    model.add(Conv2D(128, kernel_size=(3, 3), padding=\"same\", activation='relu'))\n",
        "    model.add(BatchNormalization())\n",
        "    model.add(MaxPool2D(pool_size=(2, 2)))\n",
        "    model.add(Dropout(0.2))\n",
        "\n",
        "    model.add(Conv2D(256, kernel_size=(3, 3), padding=\"same\", activation='relu'))\n",
        "    model.add(Conv2D(256, kernel_size=(3, 3), padding=\"same\", activation='relu'))\n",
        "    model.add(Conv2D(256, kernel_size=(3, 3), padding=\"same\", activation='relu'))\n",
        "    model.add(BatchNormalization())\n",
        "    model.add(MaxPool2D(pool_size=(2, 2)))\n",
        "    model.add(Dropout(0.2))\n",
        "\n",
        "    model.add(Flatten())\n",
        "    model.add(Dense(512, activation='relu'))\n",
        "    model.add(Dense(512, activation='relu'))\n",
        "    model.add(Dropout(0.5))\n",
        "    model.add(Dense(10, activation='softmax'))\n",
        "    \n",
        "    #sgd=SGD(lr=0.01, decay=1e-6, momentum=0.9, nesterov=True)\n",
        "    model.compile(loss='categorical_crossentropy', optimizer=opt, metrics=['accuracy'])\n",
        "    return model"
      ],
      "execution_count": 21,
      "outputs": []
    },
    {
      "cell_type": "code",
      "metadata": {
        "id": "GUHGif-tBA_V",
        "outputId": "9f0d4a78-c1c9-47b3-95e0-c0d6a893c6c8",
        "colab": {
          "base_uri": "https://localhost:8080/",
          "height": 428
        }
      },
      "source": [
        "model = VGG_modified((64,64,1))\n",
        "history = model.fit_generator(datagen.flow(x_train_c, y_train_d, batch_size=64),\n",
        "                              validation_data=(x_test_c, y_test_d),\n",
        "                              epochs = 10)"
      ],
      "execution_count": 22,
      "outputs": [
        {
          "output_type": "stream",
          "text": [
            "WARNING:tensorflow:From <ipython-input-22-3f743a220fbd>:4: Model.fit_generator (from tensorflow.python.keras.engine.training) is deprecated and will be removed in a future version.\n",
            "Instructions for updating:\n",
            "Please use Model.fit, which supports generators.\n",
            "Epoch 1/10\n",
            "625/625 [==============================] - 30s 49ms/step - loss: 2.2434 - accuracy: 0.1729 - val_loss: 2.4569 - val_accuracy: 0.0692\n",
            "Epoch 2/10\n",
            "625/625 [==============================] - 29s 47ms/step - loss: 2.0054 - accuracy: 0.2489 - val_loss: 2.4053 - val_accuracy: 0.1220\n",
            "Epoch 3/10\n",
            "625/625 [==============================] - 30s 48ms/step - loss: 1.5995 - accuracy: 0.4115 - val_loss: 1.1985 - val_accuracy: 0.5427\n",
            "Epoch 4/10\n",
            "625/625 [==============================] - 30s 49ms/step - loss: 1.1276 - accuracy: 0.6140 - val_loss: 1.0224 - val_accuracy: 0.6734\n",
            "Epoch 5/10\n",
            "625/625 [==============================] - 31s 49ms/step - loss: 0.7080 - accuracy: 0.8029 - val_loss: 0.3645 - val_accuracy: 0.9034\n",
            "Epoch 6/10\n",
            "625/625 [==============================] - 30s 49ms/step - loss: 0.5274 - accuracy: 0.8569 - val_loss: 0.2940 - val_accuracy: 0.9174\n",
            "Epoch 7/10\n",
            "625/625 [==============================] - 30s 48ms/step - loss: 0.4541 - accuracy: 0.8771 - val_loss: 0.2155 - val_accuracy: 0.9434\n",
            "Epoch 8/10\n",
            "625/625 [==============================] - 30s 47ms/step - loss: 0.3939 - accuracy: 0.8929 - val_loss: 0.1633 - val_accuracy: 0.9578\n",
            "Epoch 9/10\n",
            "625/625 [==============================] - 29s 47ms/step - loss: 0.3603 - accuracy: 0.9011 - val_loss: 0.1842 - val_accuracy: 0.9518\n",
            "Epoch 10/10\n",
            "625/625 [==============================] - 29s 47ms/step - loss: 0.3236 - accuracy: 0.9117 - val_loss: 0.1732 - val_accuracy: 0.9538\n"
          ],
          "name": "stdout"
        }
      ]
    },
    {
      "cell_type": "markdown",
      "metadata": {
        "id": "JwrC79F9KwY8"
      },
      "source": [
        "# 3. RNN_LSTM"
      ]
    },
    {
      "cell_type": "code",
      "metadata": {
        "id": "0KHBN9kO0nhr",
        "outputId": "d9ffc343-4ff8-490c-aaa0-cd529a873ce8",
        "colab": {
          "base_uri": "https://localhost:8080/",
          "height": 221
        }
      },
      "source": [
        "# Hyper parameters\n",
        "batch_size = 64\n",
        "nb_epoch = 10\n",
        "# Parameters for MNIST dataset\n",
        "img_rows, img_cols = 64, 64\n",
        "nb_classes = 10\n",
        "# Parameters for LSTM network\n",
        "nb_lstm_outputs = 30\n",
        "nb_time_steps = img_rows\n",
        "dim_input_vector = img_cols\n",
        "input_shape = (64, 64)\n",
        "\n",
        "x_train_r=x_train_c.reshape(x_train_c.shape[0],64,64)\n",
        "x_test_r=x_test_c.reshape(x_test_c.shape[0],64,64)\n",
        "\n",
        "model_LSTM = Sequential()\n",
        "model_LSTM.add(LSTM(nb_lstm_outputs, input_shape=input_shape))\n",
        "model_LSTM.add(Dense(10, activation='softmax'))\n",
        "model_LSTM.compile(optimizer='rmsprop', loss='categorical_crossentropy', metrics=['accuracy'])\n",
        "model_LSTM.summary()"
      ],
      "execution_count": 23,
      "outputs": [
        {
          "output_type": "stream",
          "text": [
            "Model: \"sequential_2\"\n",
            "_________________________________________________________________\n",
            "Layer (type)                 Output Shape              Param #   \n",
            "=================================================================\n",
            "lstm (LSTM)                  (None, 30)                11400     \n",
            "_________________________________________________________________\n",
            "dense_3 (Dense)              (None, 10)                310       \n",
            "=================================================================\n",
            "Total params: 11,710\n",
            "Trainable params: 11,710\n",
            "Non-trainable params: 0\n",
            "_________________________________________________________________\n"
          ],
          "name": "stdout"
        }
      ]
    },
    {
      "cell_type": "code",
      "metadata": {
        "id": "1BcF3kS6E9hW",
        "outputId": "ccfa87d6-4821-4527-f662-62d391229aa9",
        "colab": {
          "base_uri": "https://localhost:8080/",
          "height": 357
        }
      },
      "source": [
        "# Train the model\n",
        "history = model_LSTM.fit(x_train_r, \n",
        "                    y_train_d, \n",
        "                    epochs=nb_epoch, \n",
        "                    batch_size=batch_size, \n",
        "                    shuffle=True,\n",
        "                    validation_data=(x_test_r, y_test_d),\n",
        "                    verbose=1)"
      ],
      "execution_count": 24,
      "outputs": [
        {
          "output_type": "stream",
          "text": [
            "Epoch 1/10\n",
            "625/625 [==============================] - 5s 7ms/step - loss: 2.3042 - accuracy: 0.1083 - val_loss: 2.2987 - val_accuracy: 0.1176\n",
            "Epoch 2/10\n",
            "625/625 [==============================] - 4s 7ms/step - loss: 2.2826 - accuracy: 0.1367 - val_loss: 2.2627 - val_accuracy: 0.1502\n",
            "Epoch 3/10\n",
            "625/625 [==============================] - 4s 7ms/step - loss: 2.2469 - accuracy: 0.1567 - val_loss: 2.2485 - val_accuracy: 0.1561\n",
            "Epoch 4/10\n",
            "625/625 [==============================] - 4s 6ms/step - loss: 2.2229 - accuracy: 0.1702 - val_loss: 2.2173 - val_accuracy: 0.1686\n",
            "Epoch 5/10\n",
            "625/625 [==============================] - 4s 6ms/step - loss: 2.2106 - accuracy: 0.1786 - val_loss: 2.2099 - val_accuracy: 0.1772\n",
            "Epoch 6/10\n",
            "625/625 [==============================] - 4s 6ms/step - loss: 2.1974 - accuracy: 0.1820 - val_loss: 2.2031 - val_accuracy: 0.1790\n",
            "Epoch 7/10\n",
            "625/625 [==============================] - 4s 7ms/step - loss: 2.1881 - accuracy: 0.1840 - val_loss: 2.1892 - val_accuracy: 0.1818\n",
            "Epoch 8/10\n",
            "625/625 [==============================] - 4s 6ms/step - loss: 2.1788 - accuracy: 0.1887 - val_loss: 2.1954 - val_accuracy: 0.1856\n",
            "Epoch 9/10\n",
            "625/625 [==============================] - 4s 6ms/step - loss: 2.1702 - accuracy: 0.1929 - val_loss: 2.1745 - val_accuracy: 0.1941\n",
            "Epoch 10/10\n",
            "625/625 [==============================] - 4s 6ms/step - loss: 2.1624 - accuracy: 0.1973 - val_loss: 2.1773 - val_accuracy: 0.1885\n"
          ],
          "name": "stdout"
        }
      ]
    },
    {
      "cell_type": "code",
      "metadata": {
        "id": "vmh4GDhbkUTh"
      },
      "source": [
        ""
      ],
      "execution_count": null,
      "outputs": []
    }
  ]
}