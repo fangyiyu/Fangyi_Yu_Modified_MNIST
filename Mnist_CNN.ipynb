{
  "nbformat": 4,
  "nbformat_minor": 0,
  "metadata": {
    "colab": {
      "name": "Mnist_CNN.ipynb",
      "provenance": [],
      "authorship_tag": "ABX9TyM2lPuUsdM5iaJkFLODtJhU",
      "include_colab_link": true
    },
    "kernelspec": {
      "name": "python3",
      "display_name": "Python 3"
    },
    "accelerator": "GPU"
  },
  "cells": [
    {
      "cell_type": "markdown",
      "metadata": {
        "id": "view-in-github",
        "colab_type": "text"
      },
      "source": [
        "<a href=\"https://colab.research.google.com/github/fangyiyu/Fangyi_Yu_Queens/blob/master/Mnist_CNN.ipynb\" target=\"_parent\"><img src=\"https://colab.research.google.com/assets/colab-badge.svg\" alt=\"Open In Colab\"/></a>"
      ]
    },
    {
      "cell_type": "code",
      "metadata": {
        "id": "GsgXYucC3Brl",
        "outputId": "e332714f-4803-4b10-8f33-b3225db3149b",
        "colab": {
          "base_uri": "https://localhost:8080/",
          "height": 377
        }
      },
      "source": [
        "!wget -O comp551w18-modified-mnist.zip https://www.dropbox.com/sh/dhu4cu8l8e32cvl/AACSbGE9X6P7an61STwwr8R0a?dl=0"
      ],
      "execution_count": 4,
      "outputs": [
        {
          "output_type": "stream",
          "text": [
            "--2020-09-28 18:15:33--  https://www.dropbox.com/sh/dhu4cu8l8e32cvl/AACSbGE9X6P7an61STwwr8R0a?dl=0\n",
            "Resolving www.dropbox.com (www.dropbox.com)... 162.125.3.1, 2620:100:6018:1::a27d:301\n",
            "Connecting to www.dropbox.com (www.dropbox.com)|162.125.3.1|:443... connected.\n",
            "HTTP request sent, awaiting response... 301 Moved Permanently\n",
            "Location: /sh/raw/dhu4cu8l8e32cvl/AACSbGE9X6P7an61STwwr8R0a [following]\n",
            "--2020-09-28 18:15:33--  https://www.dropbox.com/sh/raw/dhu4cu8l8e32cvl/AACSbGE9X6P7an61STwwr8R0a\n",
            "Reusing existing connection to www.dropbox.com:443.\n",
            "HTTP request sent, awaiting response... 302 Found\n",
            "Location: https://uc4d53dfc82e63385a0222bfa51c.dl.dropboxusercontent.com/zip_download_get/AjrnSOGMOjt5erP4_ZNO87siKC6tzu78rZG76VItF3p6bwaqphyKBKLC3Q1a-CyDCTWkATfV40aCRl74xgtwxJbGeI3X8jMKpPHNv-8Oo2p_Ig [following]\n",
            "--2020-09-28 18:15:34--  https://uc4d53dfc82e63385a0222bfa51c.dl.dropboxusercontent.com/zip_download_get/AjrnSOGMOjt5erP4_ZNO87siKC6tzu78rZG76VItF3p6bwaqphyKBKLC3Q1a-CyDCTWkATfV40aCRl74xgtwxJbGeI3X8jMKpPHNv-8Oo2p_Ig\n",
            "Resolving uc4d53dfc82e63385a0222bfa51c.dl.dropboxusercontent.com (uc4d53dfc82e63385a0222bfa51c.dl.dropboxusercontent.com)... 162.125.3.15, 2620:100:6018:15::a27d:30f\n",
            "Connecting to uc4d53dfc82e63385a0222bfa51c.dl.dropboxusercontent.com (uc4d53dfc82e63385a0222bfa51c.dl.dropboxusercontent.com)|162.125.3.15|:443... connected.\n",
            "HTTP request sent, awaiting response... 200 OK\n",
            "Length: 307773123 (294M) [application/zip]\n",
            "Saving to: ‘comp551w18-modified-mnist.zip’\n",
            "\n",
            "comp551w18-modified 100%[===================>] 293.51M  61.2MB/s    in 4.8s    \n",
            "\n",
            "2020-09-28 18:15:39 (61.0 MB/s) - ‘comp551w18-modified-mnist.zip’ saved [307773123/307773123]\n",
            "\n"
          ],
          "name": "stdout"
        }
      ]
    },
    {
      "cell_type": "code",
      "metadata": {
        "id": "I7io90H53FUv",
        "outputId": "d4c88da5-6ba8-4c96-884f-19c2e0b3ee44",
        "colab": {
          "base_uri": "https://localhost:8080/",
          "height": 85
        }
      },
      "source": [
        "!unzip comp551w18-modified-mnist.zip"
      ],
      "execution_count": 6,
      "outputs": [
        {
          "output_type": "stream",
          "text": [
            "Archive:  comp551w18-modified-mnist.zip\n",
            "  inflating: test_x.csv              \n",
            "  inflating: train_y.csv             \n",
            "  inflating: train_x.csv             \n"
          ],
          "name": "stdout"
        }
      ]
    },
    {
      "cell_type": "code",
      "metadata": {
        "id": "rA25uY4B33vY"
      },
      "source": [
        "from __future__ import absolute_import, division, print_function\n",
        "import tensorflow as tf\n",
        "import numpy as np\n",
        "from sklearn.model_selection import train_test_split"
      ],
      "execution_count": 7,
      "outputs": []
    },
    {
      "cell_type": "code",
      "metadata": {
        "id": "hQywF_ip7xZC"
      },
      "source": [
        "from tensorflow.keras import Model, layers\n",
        "# MNIST dataset parameters.\n",
        "num_classes = 10 # 0 to 9 digits\n",
        "\n",
        "# Training parameters.\n",
        "learning_rate = 0.001\n",
        "training_steps = 200\n",
        "batch_size = 128\n",
        "display_step = 10\n",
        "\n",
        "# Network parameters.\n",
        "conv1_filters = 32 # number of filters for 1st conv layer.\n",
        "conv2_filters = 64 # number of filters for 2nd conv layer.\n",
        "fc1_units = 1024 # number of neurons for 1st fully-connected layer."
      ],
      "execution_count": 17,
      "outputs": []
    },
    {
      "cell_type": "code",
      "metadata": {
        "id": "1JHFCEKZ3LiY"
      },
      "source": [
        "x_ = np.loadtxt(\"train_x.csv\", delimiter=\",\")# load from text\n",
        "y_ = np.loadtxt(\"train_y.csv\", delimiter=\",\")\n",
        "x_train, x_test, y_train, y_test = train_test_split(x_,y_,test_size=0.2, random_state = 17)"
      ],
      "execution_count": 18,
      "outputs": []
    },
    {
      "cell_type": "code",
      "metadata": {
        "id": "Xc85jK7F76wP"
      },
      "source": [
        "# Convert to float32.\n",
        "x_train, x_test = np.array(x_train, np.float32), np.array(x_test, np.float32)\n",
        "\n",
        "# Normalize images value from [0, 255] to [0, 1].\n",
        "x_train, x_test = x_train / 255., x_test / 255."
      ],
      "execution_count": 19,
      "outputs": []
    },
    {
      "cell_type": "code",
      "metadata": {
        "id": "wUcf4PK38HUq",
        "outputId": "73c201f1-81e6-49d8-db15-3c25a91828bb",
        "colab": {
          "base_uri": "https://localhost:8080/",
          "height": 34
        }
      },
      "source": [
        "(x_train.shape,x_test.shape,y_train.shape,y_test.shape)"
      ],
      "execution_count": 20,
      "outputs": [
        {
          "output_type": "execute_result",
          "data": {
            "text/plain": [
              "((40000, 4096), (10000, 4096), (40000,), (10000,))"
            ]
          },
          "metadata": {
            "tags": []
          },
          "execution_count": 20
        }
      ]
    },
    {
      "cell_type": "code",
      "metadata": {
        "id": "PXKFPbHG8ZKU"
      },
      "source": [
        "# Use tf.data API to shuffle and batch data.\n",
        "train_data = tf.data.Dataset.from_tensor_slices((x_train, y_train))\n",
        "train_data = train_data.repeat().shuffle(5000).batch(batch_size).prefetch(1)"
      ],
      "execution_count": 21,
      "outputs": []
    },
    {
      "cell_type": "code",
      "metadata": {
        "id": "maZcimTa8aqa"
      },
      "source": [
        "# Create TF Model.\n",
        "class ConvNet(Model):\n",
        "    # Set layers.\n",
        "    def __init__(self):\n",
        "        super(ConvNet, self).__init__()\n",
        "        # Convolution Layer with 32 filters and a kernel size of 5.\n",
        "        self.conv1 = layers.Conv2D(32, kernel_size=5, activation=tf.nn.relu)\n",
        "        # Max Pooling (down-sampling) with kernel size of 2 and strides of 2. \n",
        "        self.maxpool1 = layers.MaxPool2D(2, strides=2)\n",
        "\n",
        "        # Convolution Layer with 64 filters and a kernel size of 3.\n",
        "        self.conv2 = layers.Conv2D(64, kernel_size=3, activation=tf.nn.relu)\n",
        "        # Max Pooling (down-sampling) with kernel size of 2 and strides of 2. \n",
        "        self.maxpool2 = layers.MaxPool2D(2, strides=2)\n",
        "\n",
        "        # Flatten the data to a 1-D vector for the fully connected layer.\n",
        "        self.flatten = layers.Flatten()\n",
        "\n",
        "        # Fully connected layer.\n",
        "        self.fc1 = layers.Dense(1024)\n",
        "        # Apply Dropout (if is_training is False, dropout is not applied).\n",
        "        self.dropout = layers.Dropout(rate=0.5)\n",
        "\n",
        "        # Output layer, class prediction.\n",
        "        self.out = layers.Dense(num_classes)\n",
        "\n",
        "    # Set forward pass.\n",
        "    def call(self, x, is_training=False):\n",
        "        x = tf.reshape(x, [-1, 64, 64, 1])\n",
        "        x = self.conv1(x)\n",
        "        x = self.maxpool1(x)\n",
        "        x = self.conv2(x)\n",
        "        x = self.maxpool2(x)\n",
        "        x = self.flatten(x)\n",
        "        x = self.fc1(x)\n",
        "        x = self.dropout(x, training=is_training)\n",
        "        x = self.out(x)\n",
        "        if not is_training:\n",
        "            # tf cross entropy expect logits without softmax, so only\n",
        "            # apply softmax when not training.\n",
        "            x = tf.nn.softmax(x)\n",
        "        return x\n",
        "\n",
        "# Build neural network model.\n",
        "conv_net = ConvNet()"
      ],
      "execution_count": 22,
      "outputs": []
    },
    {
      "cell_type": "code",
      "metadata": {
        "id": "c-BtEIPYCons"
      },
      "source": [
        "# Define loss function\n",
        "def cross_entropy_loss(x, y):\n",
        "    # Convert labels to int 64 for tf cross-entropy function.\n",
        "    y = tf.cast(y, tf.int64)\n",
        "    # Apply softmax to logits and compute cross-entropy.\n",
        "    loss = tf.nn.sparse_softmax_cross_entropy_with_logits(labels=y, logits=x)\n",
        "    # Average loss across the batch.\n",
        "    return tf.reduce_mean(loss)\n",
        "\n",
        "# Accuracy metric\n",
        "def accuracy(y_pred, y_true):\n",
        "    # Predicted class is the index of highest score in prediction vector (i.e. argmax).\n",
        "    correct_prediction = tf.equal(tf.argmax(y_pred, 1), tf.cast(y_true, tf.int64))\n",
        "    return tf.reduce_mean(tf.cast(correct_prediction, tf.float32), axis=-1)\n",
        "\n",
        "# Stochastic gradient descent optimizer.\n",
        "optimizer = tf.optimizers.Adam(learning_rate)"
      ],
      "execution_count": 23,
      "outputs": []
    },
    {
      "cell_type": "code",
      "metadata": {
        "id": "be13Ra9FCrsW"
      },
      "source": [
        "def run_optimization(x, y):\n",
        "    # Wrap computation inside a GradientTape for automatic differentiation.\n",
        "    with tf.GradientTape() as g:\n",
        "        # Forward pass.\n",
        "        pred = conv_net(x, is_training=True)\n",
        "        # Compute loss.\n",
        "        loss = cross_entropy_loss(pred, y)\n",
        "        \n",
        "    # Variables to update, i.e. trainable variables.\n",
        "    trainable_variables = conv_net.trainable_variables\n",
        "\n",
        "    # Compute gradients.\n",
        "    gradients = g.gradient(loss, trainable_variables)\n",
        "    \n",
        "    # Update W and b following gradients.\n",
        "    optimizer.apply_gradients(zip(gradients, trainable_variables))"
      ],
      "execution_count": 24,
      "outputs": []
    },
    {
      "cell_type": "code",
      "metadata": {
        "id": "E4sU0StY8csr"
      },
      "source": [
        "# Optimization process. \n",
        "def run_optimization(x, y):\n",
        "    # Wrap computation inside a GradientTape for automatic differentiation.\n",
        "    with tf.GradientTape() as g:\n",
        "        pred = logistic_regression(x)\n",
        "        loss = cross_entropy(pred, y)\n",
        "\n",
        "    # Compute gradients.\n",
        "    gradients = g.gradient(loss, [W, b])\n",
        "    \n",
        "    # Update W and b following gradients.\n",
        "    optimizer.apply_gradients(zip(gradients, [W, b]))"
      ],
      "execution_count": 14,
      "outputs": []
    },
    {
      "cell_type": "code",
      "metadata": {
        "id": "slrk0UFiCvHy",
        "outputId": "0b5cd415-79e1-40c0-df88-6058db4a718f",
        "colab": {
          "base_uri": "https://localhost:8080/",
          "height": 357
        }
      },
      "source": [
        "for step, (batch_x, batch_y) in enumerate(train_data.take(training_steps), 1):\n",
        "    # Run the optimization to update W and b values.\n",
        "    run_optimization(batch_x, batch_y)\n",
        "    \n",
        "    if step % display_step == 0:\n",
        "        pred = conv_net(batch_x)\n",
        "        loss = cross_entropy_loss(pred, batch_y)\n",
        "        acc = accuracy(pred, batch_y)\n",
        "        print(\"step: %i, loss: %f, accuracy: %f\" % (step, loss, acc)) "
      ],
      "execution_count": 25,
      "outputs": [
        {
          "output_type": "stream",
          "text": [
            "step: 10, loss: 2.302454, accuracy: 0.101562\n",
            "step: 20, loss: 2.302723, accuracy: 0.085938\n",
            "step: 30, loss: 2.302586, accuracy: 0.140625\n",
            "step: 40, loss: 2.302596, accuracy: 0.117188\n",
            "step: 50, loss: 2.302272, accuracy: 0.078125\n",
            "step: 60, loss: 2.303321, accuracy: 0.085938\n",
            "step: 70, loss: 2.301915, accuracy: 0.140625\n",
            "step: 80, loss: 2.301997, accuracy: 0.117188\n",
            "step: 90, loss: 2.302538, accuracy: 0.085938\n",
            "step: 100, loss: 2.302555, accuracy: 0.117188\n",
            "step: 110, loss: 2.302155, accuracy: 0.117188\n",
            "step: 120, loss: 2.302248, accuracy: 0.093750\n",
            "step: 130, loss: 2.302768, accuracy: 0.085938\n",
            "step: 140, loss: 2.302821, accuracy: 0.101562\n",
            "step: 150, loss: 2.302538, accuracy: 0.132812\n",
            "step: 160, loss: 2.302855, accuracy: 0.070312\n",
            "step: 170, loss: 2.302210, accuracy: 0.156250\n",
            "step: 180, loss: 2.303019, accuracy: 0.070312\n",
            "step: 190, loss: 2.302663, accuracy: 0.085938\n",
            "step: 200, loss: 2.302607, accuracy: 0.132812\n"
          ],
          "name": "stdout"
        }
      ]
    },
    {
      "cell_type": "code",
      "metadata": {
        "id": "edYDncJtNLYy"
      },
      "source": [
        "test_data = tf.data.Dataset.from_tensor_slices((x_test, y_test))\n",
        "test_data = test_data.repeat().shuffle(5000).batch(batch_size).prefetch(1)"
      ],
      "execution_count": 35,
      "outputs": []
    },
    {
      "cell_type": "code",
      "metadata": {
        "id": "62glMYwr8gbX",
        "outputId": "14d01427-fe3c-4da6-e2df-c3831db5d3e5",
        "colab": {
          "base_uri": "https://localhost:8080/",
          "height": 34
        }
      },
      "source": [
        "acc = 0\n",
        "test_steps = 200\n",
        "for step, (batch_x, batch_y) in enumerate(test_data.take(test_steps), 1):\n",
        "  pred = conv_net(batch_x)\n",
        "  acc += accuracy(batch_x, batch_y)\n",
        "print('Test accuracy : %f' % acc)"
      ],
      "execution_count": 44,
      "outputs": [
        {
          "output_type": "stream",
          "text": [
            "Test accuracy : 0.054688\n"
          ],
          "name": "stdout"
        }
      ]
    }
  ]
}