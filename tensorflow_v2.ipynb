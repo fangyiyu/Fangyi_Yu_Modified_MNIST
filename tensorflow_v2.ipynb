{
  "nbformat": 4,
  "nbformat_minor": 0,
  "metadata": {
    "colab": {
      "name": "ModifiedMNIST_tensorflow_v2.ipynb",
      "provenance": [],
      "authorship_tag": "ABX9TyOiLMqBaJAC8w08V2df1JVS",
      "include_colab_link": true
    },
    "kernelspec": {
      "name": "python3",
      "display_name": "Python 3"
    },
    "accelerator": "GPU"
  },
  "cells": [
    {
      "cell_type": "markdown",
      "metadata": {
        "id": "view-in-github",
        "colab_type": "text"
      },
      "source": [
        "<a href=\"https://colab.research.google.com/github/fangyiyu/Fangyi_Yu_Modified_MNIST/blob/master/tensorflow_v2.ipynb\" target=\"_parent\"><img src=\"https://colab.research.google.com/assets/colab-badge.svg\" alt=\"Open In Colab\"/></a>"
      ]
    },
    {
      "cell_type": "code",
      "metadata": {
        "id": "kwkM8UqSWBkX",
        "outputId": "20c475b1-cb6e-482e-a1dc-385af2514743",
        "colab": {
          "base_uri": "https://localhost:8080/",
          "height": 35
        }
      },
      "source": [
        "import tensorflow as tf\n",
        "tf.__version__"
      ],
      "execution_count": null,
      "outputs": [
        {
          "output_type": "execute_result",
          "data": {
            "application/vnd.google.colaboratory.intrinsic+json": {
              "type": "string"
            },
            "text/plain": [
              "'2.3.0'"
            ]
          },
          "metadata": {
            "tags": []
          },
          "execution_count": 1
        }
      ]
    },
    {
      "cell_type": "code",
      "metadata": {
        "id": "wvU8p9mSXO49",
        "outputId": "b6905a2e-10e6-48a1-aa75-c0ba20fdff6e",
        "colab": {
          "base_uri": "https://localhost:8080/",
          "height": 377
        }
      },
      "source": [
        "!wget -O comp551w18-modified-mnist.zip https://www.dropbox.com/sh/dhu4cu8l8e32cvl/AACSbGE9X6P7an61STwwr8R0a?dl=0"
      ],
      "execution_count": null,
      "outputs": [
        {
          "output_type": "stream",
          "text": [
            "--2020-09-29 19:16:00--  https://www.dropbox.com/sh/dhu4cu8l8e32cvl/AACSbGE9X6P7an61STwwr8R0a?dl=0\n",
            "Resolving www.dropbox.com (www.dropbox.com)... 162.125.65.1, 2620:100:6021:1::a27d:4101\n",
            "Connecting to www.dropbox.com (www.dropbox.com)|162.125.65.1|:443... connected.\n",
            "HTTP request sent, awaiting response... 301 Moved Permanently\n",
            "Location: /sh/raw/dhu4cu8l8e32cvl/AACSbGE9X6P7an61STwwr8R0a [following]\n",
            "--2020-09-29 19:16:00--  https://www.dropbox.com/sh/raw/dhu4cu8l8e32cvl/AACSbGE9X6P7an61STwwr8R0a\n",
            "Reusing existing connection to www.dropbox.com:443.\n",
            "HTTP request sent, awaiting response... 302 Found\n",
            "Location: https://uc1f7dce1b25a7bb4ef1862f826c.dl.dropboxusercontent.com/zip_download_get/AjsivOLFUYD50h0s4D_lH0a5YGJfa7GV9vzqmAA0VooA8B0IrG3raNLgMdIgOmcW-Utu6oBsPjp8Q62ITMy3eLPCqaQ_i7MB5tqYtcrawF0mWg [following]\n",
            "--2020-09-29 19:16:01--  https://uc1f7dce1b25a7bb4ef1862f826c.dl.dropboxusercontent.com/zip_download_get/AjsivOLFUYD50h0s4D_lH0a5YGJfa7GV9vzqmAA0VooA8B0IrG3raNLgMdIgOmcW-Utu6oBsPjp8Q62ITMy3eLPCqaQ_i7MB5tqYtcrawF0mWg\n",
            "Resolving uc1f7dce1b25a7bb4ef1862f826c.dl.dropboxusercontent.com (uc1f7dce1b25a7bb4ef1862f826c.dl.dropboxusercontent.com)... 162.125.65.15, 2620:100:6021:15::a27d:410f\n",
            "Connecting to uc1f7dce1b25a7bb4ef1862f826c.dl.dropboxusercontent.com (uc1f7dce1b25a7bb4ef1862f826c.dl.dropboxusercontent.com)|162.125.65.15|:443... connected.\n",
            "HTTP request sent, awaiting response... 200 OK\n",
            "Length: 307773123 (294M) [application/zip]\n",
            "Saving to: ‘comp551w18-modified-mnist.zip’\n",
            "\n",
            "comp551w18-modified 100%[===================>] 293.51M  17.3MB/s    in 18s     \n",
            "\n",
            "2020-09-29 19:16:20 (16.4 MB/s) - ‘comp551w18-modified-mnist.zip’ saved [307773123/307773123]\n",
            "\n"
          ],
          "name": "stdout"
        }
      ]
    },
    {
      "cell_type": "code",
      "metadata": {
        "id": "Tq3COEzCXVRT",
        "outputId": "ea1f2414-cf12-473e-d887-c0eded296ed0",
        "colab": {
          "base_uri": "https://localhost:8080/",
          "height": 85
        }
      },
      "source": [
        "!unzip comp551w18-modified-mnist.zip"
      ],
      "execution_count": null,
      "outputs": [
        {
          "output_type": "stream",
          "text": [
            "Archive:  comp551w18-modified-mnist.zip\n",
            "  inflating: test_x.csv              \n",
            "  inflating: train_y.csv             \n",
            "  inflating: train_x.csv             \n"
          ],
          "name": "stdout"
        }
      ]
    },
    {
      "cell_type": "code",
      "metadata": {
        "id": "0JxbV7CbZ83M",
        "outputId": "354f5355-9bf5-4046-97c1-12165d97e628",
        "colab": {
          "base_uri": "https://localhost:8080/",
          "height": 51
        }
      },
      "source": [
        "!ls"
      ],
      "execution_count": null,
      "outputs": [
        {
          "output_type": "stream",
          "text": [
            "comp551w18-modified-mnist.zip  sample_data  train_x.csv\n",
            "instruction.txt\t\t       test_x.csv   train_y.csv\n"
          ],
          "name": "stdout"
        }
      ]
    },
    {
      "cell_type": "code",
      "metadata": {
        "id": "u7w5IXiMaIcF"
      },
      "source": [
        "import numpy as np\n",
        "x = np.loadtxt(\"train_x.csv\", delimiter=\",\")# load from text\n",
        "y = np.loadtxt(\"train_y.csv\", delimiter=\",\")\n",
        "x = x.reshape(-1, 64, 64) # reshape\n",
        "y = y.reshape(-1, 1)"
      ],
      "execution_count": null,
      "outputs": []
    },
    {
      "cell_type": "code",
      "metadata": {
        "id": "-hW8k0DSaVUb",
        "outputId": "9392d95c-d25e-4cd5-ca7a-ac8b34d5ca22",
        "colab": {
          "base_uri": "https://localhost:8080/",
          "height": 1000
        }
      },
      "source": [
        "import matplotlib.pyplot as plt\n",
        "for i in range(5):\n",
        "    plt.figure()\n",
        "    plt.imshow(x[i])"
      ],
      "execution_count": 70,
      "outputs": [
        {
          "output_type": "display_data",
          "data": {
            "image/png": "[encoded data removed]",
            "text/plain": [
              "<Figure size 432x288 with 1 Axes>"
            ]
          },
          "metadata": {
            "tags": [],
            "needs_background": "light"
          }
        },
        {
          "output_type": "display_data",
          "data": {
            "image/png": "[encoded data removed]",
            "text/plain": [
              "<Figure size 432x288 with 1 Axes>"
            ]
          },
          "metadata": {
            "tags": [],
            "needs_background": "light"
          }
        },
        {
          "output_type": "display_data",
          "data": {
            "image/png": "[encoded data removed]",
            "text/plain": [
              "<Figure size 432x288 with 1 Axes>"
            ]
          },
          "metadata": {
            "tags": [],
            "needs_background": "light"
          }
        },
        {
          "output_type": "display_data",
          "data": {
            "image/png": "[encoded data removed]",
            "text/plain": [
              "<Figure size 432x288 with 1 Axes>"
            ]
          },
          "metadata": {
            "tags": [],
            "needs_background": "light"
          }
        },
        {
          "output_type": "display_data",
          "data": {
            "image/png": "[encoded data removed]",
            "text/plain": [
              "<Figure size 432x288 with 1 Axes>"
            ]
          },
          "metadata": {
            "tags": [],
            "needs_background": "light"
          }
        }
      ]
    },
    {
      "cell_type": "markdown",
      "metadata": {
        "id": "oMO7avD4aX3P"
      },
      "source": [
        "This project is using Modified MNIST handwritten digits. The dataset contains 50000 examples for training and 10000 for testing. The digits will be size-normalized and centered in a fixed-size image(64*64 pixels) with values from 0 to 255. "
      ]
    },
    {
      "cell_type": "markdown",
      "metadata": {
        "id": "XDHJ9lH4vJE5"
      },
      "source": [
        "# 1. Data Preprocessing"
      ]
    },
    {
      "cell_type": "code",
      "metadata": {
        "id": "ZXrGKvndvH-n"
      },
      "source": [
        "# Split dataset into test and train\n",
        "from sklearn.model_selection import train_test_split\n",
        "x_train, x_test, y_train, y_test = train_test_split(x, y, test_size=0.2, random_state=7)"
      ],
      "execution_count": null,
      "outputs": []
    },
    {
      "cell_type": "code",
      "metadata": {
        "id": "RqjLg05NvN17"
      },
      "source": [
        "# MNIST dataset parameters.\n",
        "num_classes = 10 # 0 to 9 digits\n",
        "num_features = 4096 # 64*64\n",
        "\n",
        "# Convert to float32.\n",
        "x_train, x_test = np.array(x_train, np.float32), np.array(x_test, np.float32)\n",
        "# Flatten images to 1-D vector of 4096 features (64*264).\n",
        "x_train, x_test = x_train.reshape([-1, num_features]), x_test.reshape([-1, num_features])\n",
        "# Normalize images value from [0, 255] to [0, 1].\n",
        "x_train, x_test = x_train / 255., x_test / 255."
      ],
      "execution_count": null,
      "outputs": []
    },
    {
      "cell_type": "code",
      "metadata": {
        "id": "he-1IfWkvQQC"
      },
      "source": [
        "y_test = y_test.reshape(len(y_test), )\n",
        "y_test = y_test.astype(int)"
      ],
      "execution_count": null,
      "outputs": []
    },
    {
      "cell_type": "code",
      "metadata": {
        "id": "7j3wnZlnvQyh"
      },
      "source": [
        "y_train = y_train.reshape(len(y_train), )\n",
        "y_train = y_train.astype(int)"
      ],
      "execution_count": null,
      "outputs": []
    },
    {
      "cell_type": "markdown",
      "metadata": {
        "id": "y4gpuaaubEsQ"
      },
      "source": [
        "# 2. Logistic Regression\n",
        "\n",
        "To feed in the LR model, each image will be converted to float 32, normalized to [0,1] and flattened to a 1-D array of 4096 features(64*64)."
      ]
    },
    {
      "cell_type": "code",
      "metadata": {
        "id": "p1TrgOsAa2T3"
      },
      "source": [
        "from __future__ import absolute_import, division, print_function\n",
        "# Training parameters.\n",
        "learning_rate = 0.01\n",
        "training_steps = 500\n",
        "batch_size = 128\n",
        "display_step = 50"
      ],
      "execution_count": null,
      "outputs": []
    },
    {
      "cell_type": "code",
      "metadata": {
        "id": "2ME3mk7AcJ08"
      },
      "source": [
        "# Use tf.data API to shuffle and batch data.\n",
        "import tensorflow as tf\n",
        "train_data = tf.data.Dataset.from_tensor_slices((x_train, y_train))\n",
        "train_data = train_data.repeat().shuffle(5000).batch(batch_size).prefetch(1)"
      ],
      "execution_count": null,
      "outputs": []
    },
    {
      "cell_type": "code",
      "metadata": {
        "id": "nxDDBNBVcOAs"
      },
      "source": [
        "# Weight of shape [4096, 10], the 64*64 image features, and total number of classes.\n",
        "W = tf.Variable(tf.ones([num_features, num_classes]), name=\"weight\")\n",
        "# Bias of shape [10], the total number of classes.\n",
        "b = tf.Variable(tf.zeros([num_classes]), name=\"bias\")"
      ],
      "execution_count": null,
      "outputs": []
    },
    {
      "cell_type": "code",
      "metadata": {
        "id": "AuMCJcJNcVcp"
      },
      "source": [
        "# Logistic regression (Wx + b).\n",
        "def logistic_regression(x):\n",
        "    # Apply softmax to normalize the logits to a probability distribution.\n",
        "    return tf.nn.softmax(tf.matmul(x, W) + b)\n",
        "\n",
        "# Cross-Entropy loss function.\n",
        "def cross_entropy(y_pred, y_true):\n",
        "    # Encode label to a one hot vector.\n",
        "    y_true = tf.one_hot(y_true, depth=num_classes)\n",
        "    # Clip prediction values to avoid log(0) error.\n",
        "    y_pred = tf.clip_by_value(y_pred, 1e-9, 1.)\n",
        "    # Compute cross-entropy.\n",
        "    return tf.reduce_mean(-tf.reduce_sum(y_true * tf.math.log(y_pred),1))\n",
        "\n",
        "# Accuracy metric.\n",
        "def accuracy(y_pred, y_true):\n",
        "    # Predicted class is the index of highest score in prediction vector (i.e. argmax).\n",
        "    correct_prediction = tf.equal(tf.argmax(y_pred, 1), tf.cast(y_true, tf.int64))\n",
        "    return tf.reduce_mean(tf.cast(correct_prediction, tf.float32))\n",
        "\n",
        "# Stochastic gradient descent optimizer.\n",
        "optimizer = tf.optimizers.SGD(learning_rate)"
      ],
      "execution_count": null,
      "outputs": []
    },
    {
      "cell_type": "code",
      "metadata": {
        "id": "LlHckfM-cmrV"
      },
      "source": [
        "# Optimization process. \n",
        "def run_optimization(x, y):\n",
        "    # Wrap computation inside a GradientTape for automatic differentiation.\n",
        "    with tf.GradientTape() as g:\n",
        "        pred = logistic_regression(x)\n",
        "        loss = cross_entropy(pred, y)\n",
        "\n",
        "    # Compute gradients.\n",
        "    gradients = g.gradient(loss, [W, b])\n",
        "    \n",
        "    # Update W and b following gradients.\n",
        "    optimizer.apply_gradients(zip(gradients, [W, b]))"
      ],
      "execution_count": null,
      "outputs": []
    },
    {
      "cell_type": "code",
      "metadata": {
        "id": "VYAqJBU6crA4",
        "outputId": "d09aec1c-4b06-4f6c-f338-d40dc7b0b744",
        "colab": {
          "base_uri": "https://localhost:8080/",
          "height": 187
        }
      },
      "source": [
        "# Run training for the given number of steps.\n",
        "for step, (batch_x, batch_y) in enumerate(train_data.take(training_steps), 1):\n",
        "    # Run the optimization to update W and b values.\n",
        "    run_optimization(batch_x, batch_y)\n",
        "    \n",
        "    if step % display_step == 0:\n",
        "        pred = logistic_regression(batch_x)\n",
        "        loss = cross_entropy(pred, batch_y)\n",
        "        acc = accuracy(pred, batch_y)\n",
        "        print(\"step: %i, loss: %f, accuracy: %f\" % (step, loss, acc))"
      ],
      "execution_count": null,
      "outputs": [
        {
          "output_type": "stream",
          "text": [
            "step: 50, loss: 2.253382, accuracy: 0.140625\n",
            "step: 100, loss: 2.190980, accuracy: 0.218750\n",
            "step: 150, loss: 2.227920, accuracy: 0.140625\n",
            "step: 200, loss: 2.243543, accuracy: 0.187500\n",
            "step: 250, loss: 2.241438, accuracy: 0.156250\n",
            "step: 300, loss: 2.219829, accuracy: 0.210938\n",
            "step: 350, loss: 2.235283, accuracy: 0.171875\n",
            "step: 400, loss: 2.206858, accuracy: 0.187500\n",
            "step: 450, loss: 2.271473, accuracy: 0.148438\n",
            "step: 500, loss: 2.213220, accuracy: 0.195312\n"
          ],
          "name": "stdout"
        }
      ]
    },
    {
      "cell_type": "code",
      "metadata": {
        "id": "ahPWjoxgfZdS",
        "outputId": "94031b83-e691-4ba6-985c-f8da42d8ee44",
        "colab": {
          "base_uri": "https://localhost:8080/",
          "height": 34
        }
      },
      "source": [
        "# Test model on validation set.\n",
        "pred = logistic_regression(x_test)\n",
        "print(\"Test Accuracy: %f\" % accuracy(pred, y_test))"
      ],
      "execution_count": null,
      "outputs": [
        {
          "output_type": "stream",
          "text": [
            "Test Accuracy: 0.119600\n"
          ],
          "name": "stdout"
        }
      ]
    },
    {
      "cell_type": "code",
      "metadata": {
        "id": "JTJACcN_feQJ",
        "outputId": "dca39b79-bbdd-4153-f458-184b21c75038",
        "colab": {
          "base_uri": "https://localhost:8080/",
          "height": 1000
        }
      },
      "source": [
        "# Predict 5 images from validation set.\n",
        "n_images = 5\n",
        "test_images = x_test[:n_images]\n",
        "predictions = logistic_regression(test_images)\n",
        "\n",
        "# Display image and model prediction.\n",
        "for i in range(n_images):\n",
        "    plt.imshow(np.reshape(test_images[i], [64, 64]))\n",
        "    plt.show()\n",
        "    print(\"Model prediction: %i\" % np.argmax(predictions.numpy()[i]))"
      ],
      "execution_count": null,
      "outputs": [
        {
          "output_type": "display_data",
          "data": {
            "image/png": "[encoded data removed]",
            "text/plain": [
              "<Figure size 432x288 with 1 Axes>"
            ]
          },
          "metadata": {
            "tags": [],
            "needs_background": "light"
          }
        },
        {
          "output_type": "stream",
          "text": [
            "Model prediction: 0\n"
          ],
          "name": "stdout"
        },
        {
          "output_type": "display_data",
          "data": {
            "image/png": "[encoded data removed]",
            "text/plain": [
              "<Figure size 432x288 with 1 Axes>"
            ]
          },
          "metadata": {
            "tags": [],
            "needs_background": "light"
          }
        },
        {
          "output_type": "stream",
          "text": [
            "Model prediction: 6\n"
          ],
          "name": "stdout"
        },
        {
          "output_type": "display_data",
          "data": {
            "image/png": "[encoded data removed]",
            "text/plain": [
              "<Figure size 432x288 with 1 Axes>"
            ]
          },
          "metadata": {
            "tags": [],
            "needs_background": "light"
          }
        },
        {
          "output_type": "stream",
          "text": [
            "Model prediction: 6\n"
          ],
          "name": "stdout"
        },
        {
          "output_type": "display_data",
          "data": {
            "image/png": "[encoded data removed]",
            "text/plain": [
              "<Figure size 432x288 with 1 Axes>"
            ]
          },
          "metadata": {
            "tags": [],
            "needs_background": "light"
          }
        },
        {
          "output_type": "stream",
          "text": [
            "Model prediction: 3\n"
          ],
          "name": "stdout"
        },
        {
          "output_type": "display_data",
          "data": {
            "image/png": "[encoded data removed]",
            "text/plain": [
              "<Figure size 432x288 with 1 Axes>"
            ]
          },
          "metadata": {
            "tags": [],
            "needs_background": "light"
          }
        },
        {
          "output_type": "stream",
          "text": [
            "Model prediction: 0\n"
          ],
          "name": "stdout"
        }
      ]
    },
    {
      "cell_type": "markdown",
      "metadata": {
        "id": "mln_TS_ygGgA"
      },
      "source": [
        "# 3. Convolutional Neural Networks\n",
        "\n",
        "Unlike Logistic Regression and Recurrent Neural Networks, an advantage of CNN is that the input data doesn't need to be flattened, thus we will reshape the data to its origial shape to fit the model."
      ]
    },
    {
      "cell_type": "code",
      "metadata": {
        "id": "ortym2B6f0f9"
      },
      "source": [
        "# Modified MNIST dataset parameters.\n",
        "num_classes = 10 # total classes (0-9 digits).\n",
        "\n",
        "# Training parameters.\n",
        "learning_rate = 0.01\n",
        "training_steps = 500\n",
        "batch_size = 128\n",
        "display_step = 50\n",
        "dropout = 0.7\n",
        "\n",
        "# Network parameters.\n",
        "num_input = 4096\n",
        "conv1_filters = 16 # number of filters for 1st conv layer.\n",
        "conv2_filters = 32 # number of filters for 2nd conv layer.\n",
        "conv3_filters = 128 # number of filters for 3nd conv layer.\n",
        "fc1_units = 1024 # number of neurons for 1st fully-connected layer."
      ],
      "execution_count": 153,
      "outputs": []
    },
    {
      "cell_type": "code",
      "metadata": {
        "id": "oZX_6Yg9hz1R",
        "outputId": "5a05073d-edd3-4511-f47d-25b5f79628e4",
        "colab": {
          "base_uri": "https://localhost:8080/",
          "height": 34
        }
      },
      "source": [
        "(x_train.shape,x_test.shape,y_train.shape,y_test.shape)"
      ],
      "execution_count": null,
      "outputs": [
        {
          "output_type": "execute_result",
          "data": {
            "text/plain": [
              "((40000, 4096), (10000, 4096), (40000,), (10000,))"
            ]
          },
          "metadata": {
            "tags": []
          },
          "execution_count": 18
        }
      ]
    },
    {
      "cell_type": "code",
      "metadata": {
        "id": "MXYnt1Jfh0xc"
      },
      "source": [
        "# # Use tf.data API to shuffle and batch data.\n",
        "# train_data = tf.data.Dataset.from_tensor_slices((x_train, y_train))\n",
        "# train_data = train_data.repeat().shuffle(5000).batch(batch_size).prefetch(1)"
      ],
      "execution_count": null,
      "outputs": []
    },
    {
      "cell_type": "code",
      "metadata": {
        "id": "a2tso1o8h6fY"
      },
      "source": [
        "# Create some wrappers for simplicity.\n",
        "def conv2d(x, W, b, strides=1):\n",
        "    # Conv2D wrapper, with bias and relu activation.\n",
        "    x = tf.nn.conv2d(x, W, strides=[1, strides, strides, 1], padding='SAME')\n",
        "    x = tf.nn.bias_add(x, b)\n",
        "    return tf.nn.relu(x)\n",
        "\n",
        "def maxpool2d(x, k=2):\n",
        "    # MaxPool2D wrapper.\n",
        "    return tf.nn.max_pool(x, ksize=[1, k, k, 1], strides=[1, k, k, 1], padding='SAME')"
      ],
      "execution_count": null,
      "outputs": []
    },
    {
      "cell_type": "code",
      "metadata": {
        "id": "nrzqtNJeh_QE"
      },
      "source": [
        "# Store layers weight & bias\n",
        "\n",
        "# A random value generator to initialize weights.\n",
        "random_normal = tf.initializers.RandomNormal()\n",
        "\n",
        "weights = {\n",
        "    # Conv Layer 1: 5x5 conv, 1 input, 16 filters \n",
        "    'wc1': tf.Variable(random_normal([5, 5, 1, conv1_filters])),\n",
        "    # Conv Layer 2: 3x3 conv, 16 inputs, 32 filters.\n",
        "    'wc2': tf.Variable(random_normal([3, 3, conv1_filters, conv2_filters])),\n",
        "    # Conv Layer 3: 3x3 conv, 32 inputs, 128 filters\n",
        "    'wc3': tf.Variable(random_normal([3, 3, conv2_filters, conv3_filters])),\n",
        "    # FC Layer 1: 8*8*128 inputs, 1024 units.\n",
        "    'wd1': tf.Variable(random_normal([8*8*128, fc1_units])),\n",
        "    # FC Out Layer: 1024 inputs, 10 units (total number of classes)\n",
        "    'out': tf.Variable(random_normal([fc1_units, num_classes]))\n",
        "}\n",
        "\n",
        "biases = {\n",
        "    'bc1': tf.Variable(tf.zeros([conv1_filters])),\n",
        "    'bc2': tf.Variable(tf.zeros([conv2_filters])),\n",
        "    'bc3': tf.Variable(tf.zeros([conv3_filters])),\n",
        "    'bd1': tf.Variable(tf.zeros([fc1_units])),\n",
        "    'out': tf.Variable(tf.zeros([num_classes]))\n",
        "}"
      ],
      "execution_count": null,
      "outputs": []
    },
    {
      "cell_type": "code",
      "metadata": {
        "id": "JnCo3n1uiNcw"
      },
      "source": [
        "# Create model\n",
        "def conv_net(x):\n",
        "    \n",
        "    # Input shape: [-1, 64, 64, 1]. A batch of 64x64x1 images.\n",
        "    x = tf.reshape(x, [-1, 64, 64, 1])\n",
        "\n",
        "    # Convolution Layer. Output shape: [-1, 64, 64, 16].\n",
        "    conv1 = conv2d(x, weights['wc1'], biases['bc1'])\n",
        "    \n",
        "    # Max Pooling (down-sampling). Output shape: [-1, 32, 32, 16].\n",
        "    conv1 = maxpool2d(conv1, k=2)\n",
        "\n",
        "    # Convolution Layer. Output shape: [-1, 32, 32, 32].\n",
        "    conv2 = conv2d(conv1, weights['wc2'], biases['bc2'])\n",
        "    \n",
        "    # Max Pooling (down-sampling). Output shape: [-1, 16, 16, 32].\n",
        "    conv2 = maxpool2d(conv2, k=2)\n",
        "\n",
        "    # Convolution Layer. Output shape: [-1, 16, 16, 128].\n",
        "    conv3 = conv2d(conv2, weights['wc3'], biases['bc3'])\n",
        "    \n",
        "    # Max Pooling (down-sampling). Output shape: [-1, 8, 8, 128].\n",
        "    conv3 = maxpool2d(conv3, k=2)\n",
        "\n",
        "    # Reshape conv3 output to fit fully connected layer input, Output shape: [-1, 8*8*128].\n",
        "    fc1 = tf.reshape(conv3, [-1, weights['wd1'].get_shape().as_list()[0]])\n",
        "    \n",
        "    # Fully connected layer, Output shape: [-1, 1024].\n",
        "    fc1 = tf.add(tf.matmul(fc1, weights['wd1']), biases['bd1'])\n",
        "    # Apply ReLU to fc1 output for non-linearity.\n",
        "    fc1 = tf.nn.relu(fc1)\n",
        "    # Apply Dropout\n",
        "    fc1 = tf.nn.dropout(fc1, dropout)\n",
        "\n",
        "    # Fully connected layer, Output shape: [-1, 10].\n",
        "    out = tf.add(tf.matmul(fc1, weights['out']), biases['out'])\n",
        "    # Apply softmax to normalize the logits to a probability distribution.\n",
        "    return tf.nn.softmax(out)"
      ],
      "execution_count": null,
      "outputs": []
    },
    {
      "cell_type": "code",
      "metadata": {
        "id": "QcWsFy_Xivfy"
      },
      "source": [
        "# Cross-Entropy loss function.\n",
        "def cross_entropy(y_pred, y_true):\n",
        "    # Encode label to a one hot vector.\n",
        "    y_true = tf.one_hot(y_true, depth=num_classes)\n",
        "    # Clip prediction values to avoid log(0) error.\n",
        "    y_pred = tf.clip_by_value(y_pred, 1e-9, 1.)\n",
        "    # Compute cross-entropy.\n",
        "    return tf.reduce_mean(-tf.reduce_sum(y_true * tf.math.log(y_pred)))\n",
        "\n",
        "# Accuracy metric.\n",
        "def accuracy(y_pred, y_true):\n",
        "    # Predicted class is the index of highest score in prediction vector (i.e. argmax).\n",
        "    correct_prediction = tf.equal(tf.argmax(y_pred, 1), tf.cast(y_true, tf.int64))\n",
        "    return tf.reduce_mean(tf.cast(correct_prediction, tf.float32), axis=-1)\n",
        "\n",
        "# ADAM optimizer.\n",
        "optimizer = tf.optimizers.Adam(learning_rate)"
      ],
      "execution_count": null,
      "outputs": []
    },
    {
      "cell_type": "code",
      "metadata": {
        "id": "BTDL_vMkizAq"
      },
      "source": [
        "# Optimization process. \n",
        "def run_optimization(x, y):\n",
        "    # Wrap computation inside a GradientTape for automatic differentiation.\n",
        "    with tf.GradientTape() as g:\n",
        "        pred = conv_net(x)\n",
        "        loss = cross_entropy(pred, y)\n",
        "        \n",
        "    # Variables to update, i.e. trainable variables.\n",
        "    trainable_variables = list(weights.values()) + list(biases.values())\n",
        "\n",
        "    # Compute gradients.\n",
        "    gradients = g.gradient(loss, trainable_variables)\n",
        "    \n",
        "    # Update W and b following gradients.\n",
        "    optimizer.apply_gradients(zip(gradients, trainable_variables))"
      ],
      "execution_count": null,
      "outputs": []
    },
    {
      "cell_type": "code",
      "metadata": {
        "id": "kJ6LyIOri1cb",
        "outputId": "bee95770-d134-4961-b555-eadc01c4e177",
        "colab": {
          "base_uri": "https://localhost:8080/",
          "height": 187
        }
      },
      "source": [
        "# Run training for the given number of steps.\n",
        "for step, (batch_x, batch_y) in enumerate(train_data.take(training_steps), 1):\n",
        "    # Run the optimization to update W and b values.\n",
        "    run_optimization(batch_x, batch_y)\n",
        "    \n",
        "    if step % display_step == 0:\n",
        "        pred = conv_net(batch_x)\n",
        "        loss = cross_entropy(pred, batch_y)\n",
        "        acc = accuracy(pred, batch_y)\n",
        "        print(\"step: %i, loss: %f, accuracy: %f\" % (step, loss, acc))"
      ],
      "execution_count": null,
      "outputs": [
        {
          "output_type": "stream",
          "text": [
            "step: 50, loss: 292.271576, accuracy: 0.171875\n",
            "step: 100, loss: 294.924744, accuracy: 0.132812\n",
            "step: 150, loss: 293.219299, accuracy: 0.156250\n",
            "step: 200, loss: 295.003632, accuracy: 0.109375\n",
            "step: 250, loss: 294.546509, accuracy: 0.117188\n",
            "step: 300, loss: 294.359894, accuracy: 0.109375\n",
            "step: 350, loss: 294.945099, accuracy: 0.101562\n",
            "step: 400, loss: 294.848694, accuracy: 0.109375\n",
            "step: 450, loss: 295.531647, accuracy: 0.062500\n",
            "step: 500, loss: 293.324005, accuracy: 0.109375\n"
          ],
          "name": "stdout"
        }
      ]
    },
    {
      "cell_type": "code",
      "metadata": {
        "id": "ezmU1tTei4WH",
        "outputId": "2ae650e8-a9d2-4079-e305-447cf4247ab9",
        "colab": {
          "base_uri": "https://localhost:8080/",
          "height": 34
        }
      },
      "source": [
        "# Test model on validation set.\n",
        "pred = conv_net(x_test)\n",
        "print(\"Test Accuracy: %f\" % accuracy(pred, y_test))"
      ],
      "execution_count": null,
      "outputs": [
        {
          "output_type": "stream",
          "text": [
            "Test Accuracy: 0.111600\n"
          ],
          "name": "stdout"
        }
      ]
    },
    {
      "cell_type": "markdown",
      "metadata": {
        "id": "qcPkKoc9xNkF"
      },
      "source": [
        "# 4. Gated CNN\n",
        "The convolutional layer in GCNN used a gating mechanism to allow the network to control what information should be propagated the hierarchy of layers."
      ]
    },
    {
      "cell_type": "code",
      "metadata": {
        "id": "dt9bys4yzAXx"
      },
      "source": [
        "# Create some wrappers for simplicity.\n",
        "def gconv2d(x, W, b, V, c, num, strides=1):\n",
        "    # Conv2D wrapper, with bias and gates.\n",
        "    A = tf.nn.conv2d(x, W, strides=[1, strides, strides, 1], padding='SAME')\n",
        "    B = tf.nn.conv2d(x, V, strides=[1, strides, strides, 1], padding='SAME')\n",
        "    A = tf.nn.bias_add(A, b)\n",
        "    A = tf.nn.bias_add(B, c)\n",
        "    return tf.math.multiply(A, tf.math.sigmoid(B))"
      ],
      "execution_count": 154,
      "outputs": []
    },
    {
      "cell_type": "code",
      "metadata": {
        "id": "B6Pi-ApFzDvL"
      },
      "source": [
        "# Store layers weight & bias\n",
        "\n",
        "# A random value generator to initialize weights.\n",
        "random_normal = tf.initializers.RandomNormal()\n",
        "\n",
        "weights = {\n",
        "    # Conv Layer 1: 5x5 conv, 1 input, 16 filters \n",
        "    'wc1': tf.Variable(random_normal([5, 5, 1, conv1_filters])),\n",
        "    'wv1': tf.Variable(random_normal([5, 5, 1, conv1_filters])),\n",
        "    'c1': tf.Variable(5.),\n",
        "    # Conv Layer 2: 3x3 conv, 16 inputs, 32 filters.\n",
        "    'wc2': tf.Variable(random_normal([3, 3, conv1_filters, conv2_filters])),\n",
        "    'wv2': tf.Variable(random_normal([3, 3, conv1_filters, conv2_filters])),\n",
        "    'c2': tf.Variable(3.),\n",
        "    # Conv Layer 3: 3x3 conv, 32 inputs, 128 filters\n",
        "    'wc3': tf.Variable(random_normal([3, 3, conv2_filters, conv3_filters])),\n",
        "    'wv3': tf.Variable(random_normal([3, 3, conv2_filters, conv3_filters])),\n",
        "    'c3': tf.Variable(3.),\n",
        "    # FC Layer 1: 8*8*128 inputs, 1024 units.\n",
        "    'wd1': tf.Variable(random_normal([8*8*128, fc1_units])),\n",
        "    # FC Out Layer: 1024 inputs, 10 units (total number of classes)\n",
        "    'out': tf.Variable(random_normal([fc1_units, num_classes]))\n",
        "}\n",
        "\n",
        "biases = {\n",
        "    'bc1': tf.Variable(tf.zeros([conv1_filters])),\n",
        "    'bv1': tf.Variable(tf.zeros([conv1_filters])),\n",
        "    'bc2': tf.Variable(tf.zeros([conv2_filters])),\n",
        "    'bv2': tf.Variable(tf.zeros([conv2_filters])),\n",
        "    'bc3': tf.Variable(tf.zeros([conv3_filters])),\n",
        "    'bv3': tf.Variable(tf.zeros([conv3_filters])),\n",
        "    'bd1': tf.Variable(tf.zeros([fc1_units])),\n",
        "    'out': tf.Variable(tf.zeros([num_classes]))\n",
        "}\n"
      ],
      "execution_count": 155,
      "outputs": []
    },
    {
      "cell_type": "code",
      "metadata": {
        "id": "R4cpoX9rzKSF"
      },
      "source": [
        "# Create model\n",
        "def gconv_net(x):\n",
        "    \n",
        "    # Input shape: [-1, 64, 64, 1]. A batch of 64x64x1 images.\n",
        "    x = tf.reshape(x, [-1, 64, 64, 1])\n",
        "\n",
        "    # Convolution Layer. Output shape: [-1, 64, 64, 16].\n",
        "    conv1 = gconv2d(x, weights['wc1'], biases['bc1'], weights['wv1'], biases['bv1'], weights['c1'])\n",
        "    # Max Pooling (down-sampling). Output shape: [-1, 32, 32, 16].\n",
        "    conv1 = maxpool2d(conv1, k=2)\n",
        "\n",
        "    # Convolution Layer. Output shape: [-1, 32, 32, 32].\n",
        "    conv2 = gconv2d(conv1, weights['wc2'], biases['bc2'], weights['wv2'], biases['bv2'], weights['c2'])\n",
        "    # Max Pooling (down-sampling). Output shape: [-1, 16, 16, 32].\n",
        "    conv2 = maxpool2d(conv2, k=2)\n",
        "\n",
        "    # Convolution Layer. Output shape: [-1, 16, 16, 128].\n",
        "    conv3 = gconv2d(conv2, weights['wc3'], biases['bc3'], weights['wv3'], biases['bv3'], weights['c3'])\n",
        "    # Max Pooling (down-sampling). Output shape: [-1, 8, 8, 128].\n",
        "    conv3 = maxpool2d(conv3, k=2)\n",
        "\n",
        "    # Reshape conv3 output to fit fully connected layer input, Output shape: [-1, 8*8*128].\n",
        "    fc1 = tf.reshape(conv3, [-1, weights['wd1'].get_shape().as_list()[0]])\n",
        "    \n",
        "    # Fully connected layer, Output shape: [-1, 1024].\n",
        "    fc1 = tf.add(tf.matmul(fc1, weights['wd1']), biases['bd1'])\n",
        "    # Apply ReLU to fc1 output for non-linearity.\n",
        "    fc1 = tf.nn.relu(fc1)\n",
        "    # Apply Dropout\n",
        "    fc1 = tf.nn.dropout(fc1, dropout)\n",
        "\n",
        "    # Fully connected layer, Output shape: [-1, 10].\n",
        "    out = tf.add(tf.matmul(fc1, weights['out']), biases['out'])\n",
        "    # Apply softmax to normalize the logits to a probability distribution.\n",
        "    return tf.nn.softmax(out)"
      ],
      "execution_count": 156,
      "outputs": []
    },
    {
      "cell_type": "code",
      "metadata": {
        "id": "pSflc5DxzPh-"
      },
      "source": [
        "# Cross-Entropy loss function.\n",
        "def cross_entropy(y_pred, y_true):\n",
        "    # Encode label to a one hot vector.\n",
        "    y_true = tf.one_hot(y_true, depth=num_classes)\n",
        "    # Clip prediction values to avoid log(0) error.\n",
        "    y_pred = tf.clip_by_value(y_pred, 1e-9, 1.)\n",
        "    # Compute cross-entropy.\n",
        "    return tf.reduce_mean(-tf.reduce_sum(y_true * tf.math.log(y_pred)))\n",
        "\n",
        "# Accuracy metric.\n",
        "def accuracy(y_pred, y_true):\n",
        "    # Predicted class is the index of highest score in prediction vector (i.e. argmax).\n",
        "    correct_prediction = tf.equal(tf.argmax(y_pred, 1), tf.cast(y_true, tf.int64))\n",
        "    return tf.reduce_mean(tf.cast(correct_prediction, tf.float32), axis=-1)\n",
        "\n",
        "# ADAM optimizer.\n",
        "optimizer = tf.optimizers.Adam(learning_rate)"
      ],
      "execution_count": 157,
      "outputs": []
    },
    {
      "cell_type": "code",
      "metadata": {
        "id": "IY4D3F-szSnm"
      },
      "source": [
        "# Optimization process. \n",
        "def run_optimization(x, y):\n",
        "    # Wrap computation inside a GradientTape for automatic differentiation.\n",
        "    with tf.GradientTape() as g:\n",
        "        pred = gconv_net(x)\n",
        "        loss = cross_entropy(pred, y)\n",
        "        \n",
        "    # Variables to update, i.e. trainable variables.\n",
        "    trainable_variables = list(weights.values()) + list(biases.values())\n",
        "\n",
        "    # Compute gradients.\n",
        "    gradients = g.gradient(loss, trainable_variables)\n",
        "    \n",
        "    # Update W and b following gradients.\n",
        "    optimizer.apply_gradients((grad, var) for (grad, var) in zip(gradients, trainable_variables) if grad is not None)"
      ],
      "execution_count": 158,
      "outputs": []
    },
    {
      "cell_type": "code",
      "metadata": {
        "id": "7k5jMt5IzU8A",
        "outputId": "8ccd8eb6-1a24-4c09-bfbc-1b8f0954ae76",
        "colab": {
          "base_uri": "https://localhost:8080/",
          "height": 187
        }
      },
      "source": [
        "# Run training for the given number of steps.\n",
        "for step, (batch_x, batch_y) in enumerate(train_data.take(training_steps), 1):\n",
        "    # Run the optimization to update W and b values.\n",
        "    run_optimization(batch_x, batch_y)\n",
        "    \n",
        "    if step % display_step == 0:\n",
        "        pred = gconv_net(batch_x)\n",
        "        loss = cross_entropy(pred, batch_y)\n",
        "        acc = accuracy(pred, batch_y)\n",
        "        print(\"step: %i, loss: %f, accuracy: %f\" % (step, loss, acc))"
      ],
      "execution_count": 160,
      "outputs": [
        {
          "output_type": "stream",
          "text": [
            "step: 50, loss: 295.425873, accuracy: 0.070312\n",
            "step: 100, loss: 294.479523, accuracy: 0.109375\n",
            "step: 150, loss: 295.384125, accuracy: 0.046875\n",
            "step: 200, loss: 294.753174, accuracy: 0.109375\n",
            "step: 250, loss: 294.776031, accuracy: 0.101562\n",
            "step: 300, loss: 294.379272, accuracy: 0.125000\n",
            "step: 350, loss: 294.968475, accuracy: 0.109375\n",
            "step: 400, loss: 294.384460, accuracy: 0.125000\n",
            "step: 450, loss: 295.506714, accuracy: 0.109375\n",
            "step: 500, loss: 294.334106, accuracy: 0.140625\n"
          ],
          "name": "stdout"
        }
      ]
    },
    {
      "cell_type": "markdown",
      "metadata": {
        "id": "JLMtrFYxYClv"
      },
      "source": [
        "# 5. Recurrent Neural Networks_LSTM\n",
        "\n",
        "To classify images using a recurrent neural network, we consider every image row as a sequence of pixels. Because Modified MNIST image shape is 64*64px, we will then handle 64 sequences of 64 timesteps for every sample."
      ]
    },
    {
      "cell_type": "code",
      "metadata": {
        "id": "q1iYww8G9nSf"
      },
      "source": [
        "from keras.utils import np_utils\n",
        "y_train_r = np_utils.to_categorical(y_train, num_classes)\n",
        "y_test_r = np_utils.to_categorical(y_test, num_classes)"
      ],
      "execution_count": 127,
      "outputs": []
    },
    {
      "cell_type": "code",
      "metadata": {
        "id": "zV4E7yNL-Apw",
        "outputId": "92854169-d7ba-4ed5-86ac-a83fa53a30a0",
        "colab": {
          "base_uri": "https://localhost:8080/",
          "height": 34
        }
      },
      "source": [
        "(x_train.shape,x_test.shape,y_train_r.shape,y_test_r.shape)"
      ],
      "execution_count": 129,
      "outputs": [
        {
          "output_type": "execute_result",
          "data": {
            "text/plain": [
              "((40000, 4096), (10000, 4096), (40000, 10), (10000, 10))"
            ]
          },
          "metadata": {
            "tags": []
          },
          "execution_count": 129
        }
      ]
    },
    {
      "cell_type": "code",
      "metadata": {
        "id": "iXy9l-88Xyq7",
        "outputId": "f165bc7f-56c1-4426-ce4f-342d8bb9c232",
        "colab": {
          "base_uri": "https://localhost:8080/",
          "height": 221
        }
      },
      "source": [
        "from keras.models import Sequential\n",
        "from keras.layers import Dense, Dropout, Conv2D, MaxPool2D, Flatten, LSTM, BatchNormalization\n",
        "# Hyper parameters\n",
        "batch_size = 128\n",
        "nb_epoch = 30\n",
        "# Parameters for MNIST dataset\n",
        "img_rows, img_cols = 64, 64\n",
        "nb_classes = 10\n",
        "# Parameters for LSTM network\n",
        "nb_lstm_outputs = 30\n",
        "nb_time_steps = img_rows\n",
        "dim_input_vector = img_cols\n",
        "input_shape = (64, 64)\n",
        "\n",
        "x_train=x_train.reshape(x_train.shape[0],64,64)\n",
        "x_test=x_test.reshape(x_test.shape[0],64,64)\n",
        "\n",
        "model_LSTM = Sequential()\n",
        "model_LSTM.add(LSTM(nb_lstm_outputs, input_shape=input_shape))\n",
        "model_LSTM.add(Dense(10, activation='softmax'))\n",
        "model_LSTM.compile(optimizer='rmsprop', loss='categorical_crossentropy', metrics=['accuracy'])\n",
        "model_LSTM.summary()"
      ],
      "execution_count": 133,
      "outputs": [
        {
          "output_type": "stream",
          "text": [
            "Model: \"sequential_1\"\n",
            "_________________________________________________________________\n",
            "Layer (type)                 Output Shape              Param #   \n",
            "=================================================================\n",
            "lstm_1 (LSTM)                (None, 30)                11400     \n",
            "_________________________________________________________________\n",
            "dense_1 (Dense)              (None, 10)                310       \n",
            "=================================================================\n",
            "Total params: 11,710\n",
            "Trainable params: 11,710\n",
            "Non-trainable params: 0\n",
            "_________________________________________________________________\n"
          ],
          "name": "stdout"
        }
      ]
    },
    {
      "cell_type": "code",
      "metadata": {
        "id": "Vn_ouHEpX60p",
        "outputId": "0b3087be-45bd-4d6a-be40-487fd90b7d76",
        "colab": {
          "base_uri": "https://localhost:8080/",
          "height": 1000
        }
      },
      "source": [
        "# Train the model\n",
        "history = model_LSTM.fit(x_train, \n",
        "                    y_train_r, \n",
        "                    epochs=nb_epoch, \n",
        "                    batch_size=batch_size, \n",
        "                    shuffle=True,\n",
        "                    validation_data=(x_test, y_test_r),\n",
        "                    verbose=1)"
      ],
      "execution_count": 134,
      "outputs": [
        {
          "output_type": "stream",
          "text": [
            "Epoch 1/30\n",
            "313/313 [==============================] - 3s 10ms/step - loss: 2.3048 - accuracy: 0.1078 - val_loss: 2.3029 - val_accuracy: 0.0978\n",
            "Epoch 2/30\n",
            "313/313 [==============================] - 3s 9ms/step - loss: 2.2961 - accuracy: 0.1186 - val_loss: 2.2901 - val_accuracy: 0.1289\n",
            "Epoch 3/30\n",
            "313/313 [==============================] - 3s 9ms/step - loss: 2.2785 - accuracy: 0.1373 - val_loss: 2.2848 - val_accuracy: 0.1291\n",
            "Epoch 4/30\n",
            "313/313 [==============================] - 3s 9ms/step - loss: 2.2481 - accuracy: 0.1607 - val_loss: 2.2411 - val_accuracy: 0.1581\n",
            "Epoch 5/30\n",
            "313/313 [==============================] - 3s 8ms/step - loss: 2.2237 - accuracy: 0.1711 - val_loss: 2.2249 - val_accuracy: 0.1663\n",
            "Epoch 6/30\n",
            "313/313 [==============================] - 3s 8ms/step - loss: 2.2118 - accuracy: 0.1754 - val_loss: 2.2162 - val_accuracy: 0.1700\n",
            "Epoch 7/30\n",
            "313/313 [==============================] - 3s 8ms/step - loss: 2.2003 - accuracy: 0.1826 - val_loss: 2.2173 - val_accuracy: 0.1685\n",
            "Epoch 8/30\n",
            "313/313 [==============================] - 3s 8ms/step - loss: 2.1915 - accuracy: 0.1853 - val_loss: 2.1972 - val_accuracy: 0.1813\n",
            "Epoch 9/30\n",
            "313/313 [==============================] - 2s 8ms/step - loss: 2.1852 - accuracy: 0.1851 - val_loss: 2.1809 - val_accuracy: 0.1849\n",
            "Epoch 10/30\n",
            "313/313 [==============================] - 3s 8ms/step - loss: 2.1747 - accuracy: 0.1897 - val_loss: 2.1740 - val_accuracy: 0.1894\n",
            "Epoch 11/30\n",
            "313/313 [==============================] - 3s 8ms/step - loss: 2.1680 - accuracy: 0.1931 - val_loss: 2.1670 - val_accuracy: 0.1941\n",
            "Epoch 12/30\n",
            "313/313 [==============================] - 3s 8ms/step - loss: 2.1624 - accuracy: 0.1944 - val_loss: 2.1745 - val_accuracy: 0.1950\n",
            "Epoch 13/30\n",
            "313/313 [==============================] - 2s 8ms/step - loss: 2.1551 - accuracy: 0.2001 - val_loss: 2.1718 - val_accuracy: 0.1895\n",
            "Epoch 14/30\n",
            "313/313 [==============================] - 3s 8ms/step - loss: 2.1456 - accuracy: 0.2039 - val_loss: 2.1557 - val_accuracy: 0.1981\n",
            "Epoch 15/30\n",
            "313/313 [==============================] - 3s 8ms/step - loss: 2.1373 - accuracy: 0.2100 - val_loss: 2.1497 - val_accuracy: 0.2045\n",
            "Epoch 16/30\n",
            "313/313 [==============================] - 3s 8ms/step - loss: 2.1255 - accuracy: 0.2133 - val_loss: 2.1470 - val_accuracy: 0.2047\n",
            "Epoch 17/30\n",
            "313/313 [==============================] - 3s 8ms/step - loss: 2.1160 - accuracy: 0.2211 - val_loss: 2.1203 - val_accuracy: 0.2162\n",
            "Epoch 18/30\n",
            "313/313 [==============================] - 3s 8ms/step - loss: 2.1058 - accuracy: 0.2269 - val_loss: 2.1450 - val_accuracy: 0.2117\n",
            "Epoch 19/30\n",
            "313/313 [==============================] - 3s 8ms/step - loss: 2.0926 - accuracy: 0.2318 - val_loss: 2.1137 - val_accuracy: 0.2231\n",
            "Epoch 20/30\n",
            "313/313 [==============================] - 2s 8ms/step - loss: 2.0776 - accuracy: 0.2408 - val_loss: 2.1040 - val_accuracy: 0.2244\n",
            "Epoch 21/30\n",
            "313/313 [==============================] - 2s 8ms/step - loss: 2.0613 - accuracy: 0.2495 - val_loss: 2.0744 - val_accuracy: 0.2423\n",
            "Epoch 22/30\n",
            "313/313 [==============================] - 2s 8ms/step - loss: 2.0477 - accuracy: 0.2562 - val_loss: 2.0674 - val_accuracy: 0.2440\n",
            "Epoch 23/30\n",
            "313/313 [==============================] - 3s 8ms/step - loss: 2.0322 - accuracy: 0.2628 - val_loss: 2.0633 - val_accuracy: 0.2499\n",
            "Epoch 24/30\n",
            "313/313 [==============================] - 2s 8ms/step - loss: 2.0169 - accuracy: 0.2695 - val_loss: 2.0444 - val_accuracy: 0.2585\n",
            "Epoch 25/30\n",
            "313/313 [==============================] - 3s 8ms/step - loss: 2.0039 - accuracy: 0.2786 - val_loss: 2.0402 - val_accuracy: 0.2673\n",
            "Epoch 26/30\n",
            "313/313 [==============================] - 2s 8ms/step - loss: 1.9865 - accuracy: 0.2840 - val_loss: 2.0246 - val_accuracy: 0.2722\n",
            "Epoch 27/30\n",
            "313/313 [==============================] - 3s 8ms/step - loss: 1.9738 - accuracy: 0.2922 - val_loss: 2.1224 - val_accuracy: 0.2456\n",
            "Epoch 28/30\n",
            "313/313 [==============================] - 2s 8ms/step - loss: 1.9605 - accuracy: 0.2945 - val_loss: 2.0010 - val_accuracy: 0.2810\n",
            "Epoch 29/30\n",
            "313/313 [==============================] - 2s 8ms/step - loss: 1.9442 - accuracy: 0.3045 - val_loss: 2.0026 - val_accuracy: 0.2822\n",
            "Epoch 30/30\n",
            "313/313 [==============================] - 2s 8ms/step - loss: 1.9320 - accuracy: 0.3074 - val_loss: 1.9683 - val_accuracy: 0.2955\n"
          ],
          "name": "stdout"
        }
      ]
    },
    {
      "cell_type": "markdown",
      "metadata": {
        "id": "n8vhbTos-yNB"
      },
      "source": [
        "# 6. CNN_VGG\n",
        "Apart from the vanila CNN model, I used a pre-trained model VGG here to get a better performance."
      ]
    },
    {
      "cell_type": "code",
      "metadata": {
        "id": "lSEa6ViJ_FAh"
      },
      "source": [
        "x_train, x_test = x_train.reshape([-1,64,64,1]), x_test.reshape([-1,64,64,1])"
      ],
      "execution_count": 135,
      "outputs": []
    },
    {
      "cell_type": "code",
      "metadata": {
        "id": "oJ_8BWJm-oxD"
      },
      "source": [
        "# Data augmentation\n",
        "from keras.preprocessing.image import ImageDataGenerator\n",
        "input_shape = (64,64,1)\n",
        "datagen = ImageDataGenerator(\n",
        "    rotation_range=20, \n",
        "    width_shift_range=0.1,\n",
        "    shear_range=0.2,\n",
        "    height_shift_range=0.1,\n",
        "    zoom_range=0.2\n",
        "    )\n",
        "\n",
        "datagen.fit(x_train)"
      ],
      "execution_count": 137,
      "outputs": []
    },
    {
      "cell_type": "code",
      "metadata": {
        "id": "AD2Sq-b7_vZn"
      },
      "source": [
        "# Build model\n",
        "def VGG_modified(input_shape, opt = tf.keras.optimizers.Adam(amsgrad=True)):\n",
        "    model = Sequential()\n",
        "    \n",
        "    model.add(Conv2D(32, kernel_size=(3, 3), padding=\"same\", activation='relu', input_shape=input_shape,\n",
        "                            data_format=\"channels_last\"))\n",
        "    model.add(Conv2D(32, kernel_size=(3, 3), padding=\"same\", activation='relu'))\n",
        "    model.add(Conv2D(32, kernel_size=(3, 3), padding=\"same\", activation='relu'))\n",
        "    model.add(BatchNormalization())\n",
        "    model.add(MaxPool2D(pool_size=(2, 2)))\n",
        "    model.add(Dropout(0.2))\n",
        "\n",
        "    model.add(Conv2D(64, kernel_size=(3, 3), padding=\"same\", activation='relu'))\n",
        "    model.add(Conv2D(64, kernel_size=(3, 3), padding=\"same\", activation='relu'))\n",
        "    model.add(Conv2D(64, kernel_size=(3, 3), padding=\"same\", activation='relu'))\n",
        "    model.add(BatchNormalization())\n",
        "    model.add(MaxPool2D(pool_size=(2, 2)))\n",
        "    model.add(Dropout(0.2))\n",
        "\n",
        "    model.add(Conv2D(128, kernel_size=(3, 3), padding=\"same\", activation='relu'))\n",
        "    model.add(Conv2D(128, kernel_size=(3, 3), padding=\"same\", activation='relu'))\n",
        "    model.add(Conv2D(128, kernel_size=(3, 3), padding=\"same\", activation='relu'))\n",
        "    model.add(BatchNormalization())\n",
        "    model.add(MaxPool2D(pool_size=(2, 2)))\n",
        "    model.add(Dropout(0.2))\n",
        "\n",
        "    model.add(Conv2D(256, kernel_size=(3, 3), padding=\"same\", activation='relu'))\n",
        "    model.add(Conv2D(256, kernel_size=(3, 3), padding=\"same\", activation='relu'))\n",
        "    model.add(Conv2D(256, kernel_size=(3, 3), padding=\"same\", activation='relu'))\n",
        "    model.add(BatchNormalization())\n",
        "    model.add(MaxPool2D(pool_size=(2, 2)))\n",
        "    model.add(Dropout(0.2))\n",
        "\n",
        "    model.add(Flatten())\n",
        "    model.add(Dense(512, activation='relu'))\n",
        "    model.add(Dense(512, activation='relu'))\n",
        "    model.add(Dropout(0.5))\n",
        "    model.add(Dense(10, activation='softmax'))\n",
        "    \n",
        "    #sgd=SGD(lr=0.01, decay=1e-6, momentum=0.9, nesterov=True)\n",
        "    model.compile(loss='categorical_crossentropy', optimizer=opt, metrics=['accuracy'])\n",
        "    return model"
      ],
      "execution_count": 138,
      "outputs": []
    },
    {
      "cell_type": "code",
      "metadata": {
        "id": "gb6mo9RJ_vzV",
        "outputId": "f4b70931-5fcf-4de7-9e71-116410c3cbdd",
        "colab": {
          "base_uri": "https://localhost:8080/",
          "height": 428
        }
      },
      "source": [
        "model = VGG_modified((64,64,1))\n",
        "history = model.fit_generator(datagen.flow(x_train, y_train_r, batch_size=64),\n",
        "                              validation_data=(x_test, y_test_r),\n",
        "                              epochs = 10)"
      ],
      "execution_count": 140,
      "outputs": [
        {
          "output_type": "stream",
          "text": [
            "WARNING:tensorflow:From <ipython-input-140-53366da26b17>:4: Model.fit_generator (from tensorflow.python.keras.engine.training) is deprecated and will be removed in a future version.\n",
            "Instructions for updating:\n",
            "Please use Model.fit, which supports generators.\n",
            "Epoch 1/10\n",
            "625/625 [==============================] - 32s 51ms/step - loss: 2.2400 - accuracy: 0.1716 - val_loss: 2.4165 - val_accuracy: 0.0668\n",
            "Epoch 2/10\n",
            "625/625 [==============================] - 31s 50ms/step - loss: 1.9910 - accuracy: 0.2522 - val_loss: 2.6888 - val_accuracy: 0.1186\n",
            "Epoch 3/10\n",
            "625/625 [==============================] - 31s 49ms/step - loss: 1.4424 - accuracy: 0.4958 - val_loss: 1.7247 - val_accuracy: 0.5278\n",
            "Epoch 4/10\n",
            "625/625 [==============================] - 31s 49ms/step - loss: 0.9167 - accuracy: 0.7198 - val_loss: 0.4368 - val_accuracy: 0.8831\n",
            "Epoch 5/10\n",
            "625/625 [==============================] - 31s 49ms/step - loss: 0.6521 - accuracy: 0.8234 - val_loss: 0.3477 - val_accuracy: 0.9114\n",
            "Epoch 6/10\n",
            "625/625 [==============================] - 31s 49ms/step - loss: 0.4997 - accuracy: 0.8644 - val_loss: 0.3395 - val_accuracy: 0.9071\n",
            "Epoch 7/10\n",
            "625/625 [==============================] - 31s 49ms/step - loss: 0.4404 - accuracy: 0.8813 - val_loss: 0.2135 - val_accuracy: 0.9418\n",
            "Epoch 8/10\n",
            "625/625 [==============================] - 31s 49ms/step - loss: 0.3867 - accuracy: 0.8952 - val_loss: 0.1731 - val_accuracy: 0.9537\n",
            "Epoch 9/10\n",
            "625/625 [==============================] - 30s 49ms/step - loss: 0.3552 - accuracy: 0.9055 - val_loss: 0.1530 - val_accuracy: 0.9602\n",
            "Epoch 10/10\n",
            "625/625 [==============================] - 30s 49ms/step - loss: 0.3307 - accuracy: 0.9085 - val_loss: 0.1544 - val_accuracy: 0.9574\n"
          ],
          "name": "stdout"
        }
      ]
    },
    {
      "cell_type": "code",
      "metadata": {
        "id": "_A0ZdzGy_x2h"
      },
      "source": [
        ""
      ],
      "execution_count": null,
      "outputs": []
    }
  ]
}